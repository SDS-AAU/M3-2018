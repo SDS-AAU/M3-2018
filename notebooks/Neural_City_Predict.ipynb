{
  "nbformat": 4,
  "nbformat_minor": 0,
  "metadata": {
    "colab": {
      "name": "Neural City Predict.ipynb",
      "version": "0.3.2",
      "provenance": [],
      "collapsed_sections": [],
      "include_colab_link": true
    },
    "kernelspec": {
      "name": "python3",
      "display_name": "Python 3"
    },
    "accelerator": "GPU"
  },
  "cells": [
    {
      "cell_type": "markdown",
      "metadata": {
        "id": "view-in-github",
        "colab_type": "text"
      },
      "source": [
        "<a href=\"https://colab.research.google.com/github/SDS-AAU/M3-2018/blob/master/notebooks/Neural_City_Predict.ipynb\" target=\"_parent\"><img src=\"https://colab.research.google.com/assets/colab-badge.svg\" alt=\"Open In Colab\"/></a>"
      ]
    },
    {
      "metadata": {
        "id": "jV-BaU11opWL",
        "colab_type": "text"
      },
      "cell_type": "markdown",
      "source": [
        "# Let's (neural) predict the continent given the Nomadlist Citydata from M1\n",
        "\n",
        "![nomad](https://cdn-images-1.medium.com/max/2000/1*CDiNeEaefU0BU6-R8ZY3hg.jpeg)"
      ]
    },
    {
      "metadata": {
        "id": "bjVaX-NoCFA_",
        "colab_type": "code",
        "colab": {}
      },
      "cell_type": "code",
      "source": [
        "# Let's import data minging standard-libraries\n",
        "\n",
        "import pandas as pd\n",
        "import numpy as np\n",
        "\n",
        "# classification report\n",
        "from sklearn.metrics import classification_report"
      ],
      "execution_count": 0,
      "outputs": []
    },
    {
      "metadata": {
        "id": "XTwyvcWVCMf2",
        "colab_type": "code",
        "colab": {}
      },
      "cell_type": "code",
      "source": [
        "# We can load the data directly out of the M1 repo\n",
        "\n",
        "data = pd.read_csv('https://github.com/SDS-AAU/M1-2018/raw/master/assignments/assignment_2/cities_predict.csv')"
      ],
      "execution_count": 0,
      "outputs": []
    },
    {
      "metadata": {
        "id": "q0WIdlCopiq0",
        "colab_type": "code",
        "colab": {
          "base_uri": "https://localhost:8080/",
          "height": 355
        },
        "outputId": "a988f96d-8833-46c8-e63d-01825c040c5f"
      },
      "cell_type": "code",
      "source": [
        "# A first look: Just to recap what was in the data:\n",
        "\n",
        "data.head()"
      ],
      "execution_count": 3,
      "outputs": [
        {
          "output_type": "execute_result",
          "data": {
            "text/html": [
              "<div>\n",
              "<style scoped>\n",
              "    .dataframe tbody tr th:only-of-type {\n",
              "        vertical-align: middle;\n",
              "    }\n",
              "\n",
              "    .dataframe tbody tr th {\n",
              "        vertical-align: top;\n",
              "    }\n",
              "\n",
              "    .dataframe thead th {\n",
              "        text-align: right;\n",
              "    }\n",
              "</style>\n",
              "<table border=\"1\" class=\"dataframe\">\n",
              "  <thead>\n",
              "    <tr style=\"text-align: right;\">\n",
              "      <th></th>\n",
              "      <th>1br_studio_rent_in_center</th>\n",
              "      <th>adult_nightlife</th>\n",
              "      <th>air_quality_(year-round)</th>\n",
              "      <th>airbnb_(monthly)</th>\n",
              "      <th>cashless_society</th>\n",
              "      <th>coca-cola</th>\n",
              "      <th>coffee</th>\n",
              "      <th>cost_of_living</th>\n",
              "      <th>cost_of_living_for_expat</th>\n",
              "      <th>cost_of_living_for_local</th>\n",
              "      <th>...</th>\n",
              "      <th>religious_government</th>\n",
              "      <th>safe_tap_water</th>\n",
              "      <th>safety</th>\n",
              "      <th>startup_score</th>\n",
              "      <th>traffic_safety</th>\n",
              "      <th>walkability</th>\n",
              "      <th>nomad_score</th>\n",
              "      <th>region</th>\n",
              "      <th>country</th>\n",
              "      <th>place_slug</th>\n",
              "    </tr>\n",
              "  </thead>\n",
              "  <tbody>\n",
              "    <tr>\n",
              "      <th>0</th>\n",
              "      <td>492.0</td>\n",
              "      <td>4.0</td>\n",
              "      <td>42.0</td>\n",
              "      <td>946.0</td>\n",
              "      <td>1.00000</td>\n",
              "      <td>0.70</td>\n",
              "      <td>1.40</td>\n",
              "      <td>3.0</td>\n",
              "      <td>961.0</td>\n",
              "      <td>626.0</td>\n",
              "      <td>...</td>\n",
              "      <td>0.0</td>\n",
              "      <td>0.0</td>\n",
              "      <td>1.0</td>\n",
              "      <td>3.0</td>\n",
              "      <td>4.0</td>\n",
              "      <td>4.0</td>\n",
              "      <td>4.03</td>\n",
              "      <td>Latin America</td>\n",
              "      <td>Mexico</td>\n",
              "      <td>mexico-city-mexico</td>\n",
              "    </tr>\n",
              "    <tr>\n",
              "      <th>1</th>\n",
              "      <td>223.0</td>\n",
              "      <td>3.0</td>\n",
              "      <td>19.0</td>\n",
              "      <td>976.0</td>\n",
              "      <td>1.00000</td>\n",
              "      <td>0.63</td>\n",
              "      <td>1.11</td>\n",
              "      <td>3.0</td>\n",
              "      <td>697.0</td>\n",
              "      <td>349.0</td>\n",
              "      <td>...</td>\n",
              "      <td>0.0</td>\n",
              "      <td>0.0</td>\n",
              "      <td>2.0</td>\n",
              "      <td>3.0</td>\n",
              "      <td>4.0</td>\n",
              "      <td>4.0</td>\n",
              "      <td>4.51</td>\n",
              "      <td>Latin America</td>\n",
              "      <td>Mexico</td>\n",
              "      <td>cancun-mexico</td>\n",
              "    </tr>\n",
              "    <tr>\n",
              "      <th>2</th>\n",
              "      <td>503.0</td>\n",
              "      <td>2.0</td>\n",
              "      <td>68.0</td>\n",
              "      <td>1312.0</td>\n",
              "      <td>1.06622</td>\n",
              "      <td>0.54</td>\n",
              "      <td>0.70</td>\n",
              "      <td>3.0</td>\n",
              "      <td>1064.0</td>\n",
              "      <td>631.0</td>\n",
              "      <td>...</td>\n",
              "      <td>1.0</td>\n",
              "      <td>0.0</td>\n",
              "      <td>3.0</td>\n",
              "      <td>2.0</td>\n",
              "      <td>1.0</td>\n",
              "      <td>1.0</td>\n",
              "      <td>4.45</td>\n",
              "      <td>Middle East</td>\n",
              "      <td>Jordan</td>\n",
              "      <td>amman-jordan</td>\n",
              "    </tr>\n",
              "    <tr>\n",
              "      <th>3</th>\n",
              "      <td>426.0</td>\n",
              "      <td>2.0</td>\n",
              "      <td>23.0</td>\n",
              "      <td>885.0</td>\n",
              "      <td>2.00000</td>\n",
              "      <td>0.44</td>\n",
              "      <td>1.41</td>\n",
              "      <td>3.0</td>\n",
              "      <td>789.0</td>\n",
              "      <td>522.0</td>\n",
              "      <td>...</td>\n",
              "      <td>0.0</td>\n",
              "      <td>0.0</td>\n",
              "      <td>3.0</td>\n",
              "      <td>3.0</td>\n",
              "      <td>3.0</td>\n",
              "      <td>4.0</td>\n",
              "      <td>4.83</td>\n",
              "      <td>Asia</td>\n",
              "      <td>Vietnam</td>\n",
              "      <td>ho-chi-minh-city-vietnam</td>\n",
              "    </tr>\n",
              "    <tr>\n",
              "      <th>4</th>\n",
              "      <td>2740.0</td>\n",
              "      <td>2.0</td>\n",
              "      <td>49.0</td>\n",
              "      <td>2135.0</td>\n",
              "      <td>3.00000</td>\n",
              "      <td>1.06</td>\n",
              "      <td>3.40</td>\n",
              "      <td>1.0</td>\n",
              "      <td>2801.0</td>\n",
              "      <td>2347.0</td>\n",
              "      <td>...</td>\n",
              "      <td>0.0</td>\n",
              "      <td>0.0</td>\n",
              "      <td>3.0</td>\n",
              "      <td>4.0</td>\n",
              "      <td>3.0</td>\n",
              "      <td>4.0</td>\n",
              "      <td>4.11</td>\n",
              "      <td>Asia</td>\n",
              "      <td>China</td>\n",
              "      <td>hong-kong-china</td>\n",
              "    </tr>\n",
              "  </tbody>\n",
              "</table>\n",
              "<p>5 rows × 32 columns</p>\n",
              "</div>"
            ],
            "text/plain": [
              "   1br_studio_rent_in_center  adult_nightlife  air_quality_(year-round)  \\\n",
              "0                      492.0              4.0                      42.0   \n",
              "1                      223.0              3.0                      19.0   \n",
              "2                      503.0              2.0                      68.0   \n",
              "3                      426.0              2.0                      23.0   \n",
              "4                     2740.0              2.0                      49.0   \n",
              "\n",
              "   airbnb_(monthly)  cashless_society  coca-cola  coffee  cost_of_living  \\\n",
              "0             946.0           1.00000       0.70    1.40             3.0   \n",
              "1             976.0           1.00000       0.63    1.11             3.0   \n",
              "2            1312.0           1.06622       0.54    0.70             3.0   \n",
              "3             885.0           2.00000       0.44    1.41             3.0   \n",
              "4            2135.0           3.00000       1.06    3.40             1.0   \n",
              "\n",
              "   cost_of_living_for_expat  cost_of_living_for_local  \\\n",
              "0                     961.0                     626.0   \n",
              "1                     697.0                     349.0   \n",
              "2                    1064.0                     631.0   \n",
              "3                     789.0                     522.0   \n",
              "4                    2801.0                    2347.0   \n",
              "\n",
              "             ...             religious_government  safe_tap_water  safety  \\\n",
              "0            ...                              0.0             0.0     1.0   \n",
              "1            ...                              0.0             0.0     2.0   \n",
              "2            ...                              1.0             0.0     3.0   \n",
              "3            ...                              0.0             0.0     3.0   \n",
              "4            ...                              0.0             0.0     3.0   \n",
              "\n",
              "   startup_score  traffic_safety  walkability  nomad_score         region  \\\n",
              "0            3.0             4.0          4.0         4.03  Latin America   \n",
              "1            3.0             4.0          4.0         4.51  Latin America   \n",
              "2            2.0             1.0          1.0         4.45    Middle East   \n",
              "3            3.0             3.0          4.0         4.83           Asia   \n",
              "4            4.0             3.0          4.0         4.11           Asia   \n",
              "\n",
              "   country                place_slug  \n",
              "0   Mexico        mexico-city-mexico  \n",
              "1   Mexico             cancun-mexico  \n",
              "2   Jordan              amman-jordan  \n",
              "3  Vietnam  ho-chi-minh-city-vietnam  \n",
              "4    China           hong-kong-china  \n",
              "\n",
              "[5 rows x 32 columns]"
            ]
          },
          "metadata": {
            "tags": []
          },
          "execution_count": 3
        }
      ]
    },
    {
      "metadata": {
        "id": "YR-nskTkpabh",
        "colab_type": "text"
      },
      "cell_type": "markdown",
      "source": [
        "## Preprocessing for classification\n",
        "\n",
        "\"traditional\" classification algos. from Sklearn will behappy with a int-encoded variable as ```y``` but remember: **neural nets need a dummy matrix**"
      ]
    },
    {
      "metadata": {
        "id": "de1DYar7CQKP",
        "colab_type": "code",
        "colab": {}
      },
      "cell_type": "code",
      "source": [
        "# Let's encode our target variable \"Region\" into a number for the traditional classification (sklearn algo)\n",
        "\n",
        "from sklearn.preprocessing import LabelEncoder\n",
        "encoder = LabelEncoder()\n",
        "\n",
        "y = encoder.fit_transform(data['region'])"
      ],
      "execution_count": 0,
      "outputs": []
    },
    {
      "metadata": {
        "id": "yXcQuw54CwG3",
        "colab_type": "code",
        "colab": {}
      },
      "cell_type": "code",
      "source": [
        "# Cut out the input-data X and transform it into an array using .values\n",
        "\n",
        "X = data.loc[:,:'nomad_score'].values"
      ],
      "execution_count": 0,
      "outputs": []
    },
    {
      "metadata": {
        "id": "INyt6TJPr4EI",
        "colab_type": "code",
        "colab": {
          "base_uri": "https://localhost:8080/",
          "height": 363
        },
        "outputId": "b6ac9e16-fa07-471e-e3a8-22e865f472e8"
      },
      "cell_type": "code",
      "source": [
        "# A quick check if we need to scale the data:\n",
        "\n",
        "data.loc[:,:'nomad_score'].describe()\n",
        "\n",
        "# Obviousely we need to do that."
      ],
      "execution_count": 6,
      "outputs": [
        {
          "output_type": "execute_result",
          "data": {
            "text/html": [
              "<div>\n",
              "<style scoped>\n",
              "    .dataframe tbody tr th:only-of-type {\n",
              "        vertical-align: middle;\n",
              "    }\n",
              "\n",
              "    .dataframe tbody tr th {\n",
              "        vertical-align: top;\n",
              "    }\n",
              "\n",
              "    .dataframe thead th {\n",
              "        text-align: right;\n",
              "    }\n",
              "</style>\n",
              "<table border=\"1\" class=\"dataframe\">\n",
              "  <thead>\n",
              "    <tr style=\"text-align: right;\">\n",
              "      <th></th>\n",
              "      <th>1br_studio_rent_in_center</th>\n",
              "      <th>adult_nightlife</th>\n",
              "      <th>air_quality_(year-round)</th>\n",
              "      <th>airbnb_(monthly)</th>\n",
              "      <th>cashless_society</th>\n",
              "      <th>coca-cola</th>\n",
              "      <th>coffee</th>\n",
              "      <th>cost_of_living</th>\n",
              "      <th>cost_of_living_for_expat</th>\n",
              "      <th>cost_of_living_for_local</th>\n",
              "      <th>...</th>\n",
              "      <th>peace</th>\n",
              "      <th>quality_of_life</th>\n",
              "      <th>racial_tolerance</th>\n",
              "      <th>religious_government</th>\n",
              "      <th>safe_tap_water</th>\n",
              "      <th>safety</th>\n",
              "      <th>startup_score</th>\n",
              "      <th>traffic_safety</th>\n",
              "      <th>walkability</th>\n",
              "      <th>nomad_score</th>\n",
              "    </tr>\n",
              "  </thead>\n",
              "  <tbody>\n",
              "    <tr>\n",
              "      <th>count</th>\n",
              "      <td>730.000000</td>\n",
              "      <td>730.000000</td>\n",
              "      <td>730.000000</td>\n",
              "      <td>730.000000</td>\n",
              "      <td>730.000000</td>\n",
              "      <td>730.000000</td>\n",
              "      <td>730.000000</td>\n",
              "      <td>730.000000</td>\n",
              "      <td>730.000000</td>\n",
              "      <td>730.000000</td>\n",
              "      <td>...</td>\n",
              "      <td>730.000000</td>\n",
              "      <td>730.000000</td>\n",
              "      <td>730.000000</td>\n",
              "      <td>730.000000</td>\n",
              "      <td>730.000000</td>\n",
              "      <td>730.000000</td>\n",
              "      <td>730.000000</td>\n",
              "      <td>730.000000</td>\n",
              "      <td>730.000000</td>\n",
              "      <td>730.000000</td>\n",
              "    </tr>\n",
              "    <tr>\n",
              "      <th>mean</th>\n",
              "      <td>656.096715</td>\n",
              "      <td>2.106849</td>\n",
              "      <td>40.608915</td>\n",
              "      <td>1711.775567</td>\n",
              "      <td>1.914128</td>\n",
              "      <td>1.338260</td>\n",
              "      <td>2.481932</td>\n",
              "      <td>2.187671</td>\n",
              "      <td>1444.247266</td>\n",
              "      <td>888.146074</td>\n",
              "      <td>...</td>\n",
              "      <td>2.489041</td>\n",
              "      <td>2.887671</td>\n",
              "      <td>2.138097</td>\n",
              "      <td>0.210959</td>\n",
              "      <td>0.475342</td>\n",
              "      <td>2.760274</td>\n",
              "      <td>2.927397</td>\n",
              "      <td>3.473973</td>\n",
              "      <td>3.272603</td>\n",
              "      <td>3.906561</td>\n",
              "    </tr>\n",
              "    <tr>\n",
              "      <th>std</th>\n",
              "      <td>465.218067</td>\n",
              "      <td>0.358448</td>\n",
              "      <td>44.044073</td>\n",
              "      <td>941.886884</td>\n",
              "      <td>0.735266</td>\n",
              "      <td>0.869454</td>\n",
              "      <td>1.271214</td>\n",
              "      <td>0.868034</td>\n",
              "      <td>742.139699</td>\n",
              "      <td>506.694402</td>\n",
              "      <td>...</td>\n",
              "      <td>1.011872</td>\n",
              "      <td>0.360591</td>\n",
              "      <td>0.888359</td>\n",
              "      <td>0.408269</td>\n",
              "      <td>0.499734</td>\n",
              "      <td>0.904984</td>\n",
              "      <td>0.678043</td>\n",
              "      <td>0.948615</td>\n",
              "      <td>1.210806</td>\n",
              "      <td>0.432857</td>\n",
              "    </tr>\n",
              "    <tr>\n",
              "      <th>min</th>\n",
              "      <td>62.510904</td>\n",
              "      <td>2.000000</td>\n",
              "      <td>1.000000</td>\n",
              "      <td>275.000000</td>\n",
              "      <td>1.000000</td>\n",
              "      <td>0.000000</td>\n",
              "      <td>0.000000</td>\n",
              "      <td>1.000000</td>\n",
              "      <td>374.000000</td>\n",
              "      <td>177.000000</td>\n",
              "      <td>...</td>\n",
              "      <td>1.000000</td>\n",
              "      <td>1.000000</td>\n",
              "      <td>1.000000</td>\n",
              "      <td>0.000000</td>\n",
              "      <td>0.000000</td>\n",
              "      <td>1.000000</td>\n",
              "      <td>1.000000</td>\n",
              "      <td>1.000000</td>\n",
              "      <td>1.000000</td>\n",
              "      <td>2.260000</td>\n",
              "    </tr>\n",
              "    <tr>\n",
              "      <th>25%</th>\n",
              "      <td>314.250000</td>\n",
              "      <td>2.000000</td>\n",
              "      <td>16.000000</td>\n",
              "      <td>1098.000000</td>\n",
              "      <td>1.000000</td>\n",
              "      <td>0.580000</td>\n",
              "      <td>1.442500</td>\n",
              "      <td>1.000000</td>\n",
              "      <td>792.000000</td>\n",
              "      <td>477.250000</td>\n",
              "      <td>...</td>\n",
              "      <td>2.000000</td>\n",
              "      <td>3.000000</td>\n",
              "      <td>1.371214</td>\n",
              "      <td>0.000000</td>\n",
              "      <td>0.000000</td>\n",
              "      <td>2.000000</td>\n",
              "      <td>3.000000</td>\n",
              "      <td>3.000000</td>\n",
              "      <td>2.000000</td>\n",
              "      <td>3.630000</td>\n",
              "    </tr>\n",
              "    <tr>\n",
              "      <th>50%</th>\n",
              "      <td>554.000000</td>\n",
              "      <td>2.000000</td>\n",
              "      <td>24.000000</td>\n",
              "      <td>1495.000000</td>\n",
              "      <td>2.000000</td>\n",
              "      <td>1.185000</td>\n",
              "      <td>2.405000</td>\n",
              "      <td>2.000000</td>\n",
              "      <td>1302.000000</td>\n",
              "      <td>803.500000</td>\n",
              "      <td>...</td>\n",
              "      <td>3.000000</td>\n",
              "      <td>3.000000</td>\n",
              "      <td>2.000000</td>\n",
              "      <td>0.000000</td>\n",
              "      <td>0.000000</td>\n",
              "      <td>3.000000</td>\n",
              "      <td>3.000000</td>\n",
              "      <td>4.000000</td>\n",
              "      <td>4.000000</td>\n",
              "      <td>3.970000</td>\n",
              "    </tr>\n",
              "    <tr>\n",
              "      <th>75%</th>\n",
              "      <td>870.750000</td>\n",
              "      <td>2.000000</td>\n",
              "      <td>50.000000</td>\n",
              "      <td>2098.192785</td>\n",
              "      <td>2.244617</td>\n",
              "      <td>1.940000</td>\n",
              "      <td>3.467500</td>\n",
              "      <td>3.000000</td>\n",
              "      <td>1962.250000</td>\n",
              "      <td>1199.750000</td>\n",
              "      <td>...</td>\n",
              "      <td>3.000000</td>\n",
              "      <td>3.000000</td>\n",
              "      <td>3.000000</td>\n",
              "      <td>0.000000</td>\n",
              "      <td>1.000000</td>\n",
              "      <td>3.000000</td>\n",
              "      <td>3.000000</td>\n",
              "      <td>4.000000</td>\n",
              "      <td>4.000000</td>\n",
              "      <td>4.250000</td>\n",
              "    </tr>\n",
              "    <tr>\n",
              "      <th>max</th>\n",
              "      <td>2783.000000</td>\n",
              "      <td>4.000000</td>\n",
              "      <td>368.000000</td>\n",
              "      <td>7839.000000</td>\n",
              "      <td>3.000000</td>\n",
              "      <td>5.000000</td>\n",
              "      <td>8.610000</td>\n",
              "      <td>4.000000</td>\n",
              "      <td>4147.000000</td>\n",
              "      <td>2980.000000</td>\n",
              "      <td>...</td>\n",
              "      <td>4.000000</td>\n",
              "      <td>4.000000</td>\n",
              "      <td>4.000000</td>\n",
              "      <td>1.000000</td>\n",
              "      <td>1.000000</td>\n",
              "      <td>4.000000</td>\n",
              "      <td>4.000000</td>\n",
              "      <td>4.000000</td>\n",
              "      <td>4.000000</td>\n",
              "      <td>4.970000</td>\n",
              "    </tr>\n",
              "  </tbody>\n",
              "</table>\n",
              "<p>8 rows × 29 columns</p>\n",
              "</div>"
            ],
            "text/plain": [
              "       1br_studio_rent_in_center  adult_nightlife  air_quality_(year-round)  \\\n",
              "count                 730.000000       730.000000                730.000000   \n",
              "mean                  656.096715         2.106849                 40.608915   \n",
              "std                   465.218067         0.358448                 44.044073   \n",
              "min                    62.510904         2.000000                  1.000000   \n",
              "25%                   314.250000         2.000000                 16.000000   \n",
              "50%                   554.000000         2.000000                 24.000000   \n",
              "75%                   870.750000         2.000000                 50.000000   \n",
              "max                  2783.000000         4.000000                368.000000   \n",
              "\n",
              "       airbnb_(monthly)  cashless_society   coca-cola      coffee  \\\n",
              "count        730.000000        730.000000  730.000000  730.000000   \n",
              "mean        1711.775567          1.914128    1.338260    2.481932   \n",
              "std          941.886884          0.735266    0.869454    1.271214   \n",
              "min          275.000000          1.000000    0.000000    0.000000   \n",
              "25%         1098.000000          1.000000    0.580000    1.442500   \n",
              "50%         1495.000000          2.000000    1.185000    2.405000   \n",
              "75%         2098.192785          2.244617    1.940000    3.467500   \n",
              "max         7839.000000          3.000000    5.000000    8.610000   \n",
              "\n",
              "       cost_of_living  cost_of_living_for_expat  cost_of_living_for_local  \\\n",
              "count      730.000000                730.000000                730.000000   \n",
              "mean         2.187671               1444.247266                888.146074   \n",
              "std          0.868034                742.139699                506.694402   \n",
              "min          1.000000                374.000000                177.000000   \n",
              "25%          1.000000                792.000000                477.250000   \n",
              "50%          2.000000               1302.000000                803.500000   \n",
              "75%          3.000000               1962.250000               1199.750000   \n",
              "max          4.000000               4147.000000               2980.000000   \n",
              "\n",
              "          ...            peace  quality_of_life  racial_tolerance  \\\n",
              "count     ...       730.000000       730.000000        730.000000   \n",
              "mean      ...         2.489041         2.887671          2.138097   \n",
              "std       ...         1.011872         0.360591          0.888359   \n",
              "min       ...         1.000000         1.000000          1.000000   \n",
              "25%       ...         2.000000         3.000000          1.371214   \n",
              "50%       ...         3.000000         3.000000          2.000000   \n",
              "75%       ...         3.000000         3.000000          3.000000   \n",
              "max       ...         4.000000         4.000000          4.000000   \n",
              "\n",
              "       religious_government  safe_tap_water      safety  startup_score  \\\n",
              "count            730.000000      730.000000  730.000000     730.000000   \n",
              "mean               0.210959        0.475342    2.760274       2.927397   \n",
              "std                0.408269        0.499734    0.904984       0.678043   \n",
              "min                0.000000        0.000000    1.000000       1.000000   \n",
              "25%                0.000000        0.000000    2.000000       3.000000   \n",
              "50%                0.000000        0.000000    3.000000       3.000000   \n",
              "75%                0.000000        1.000000    3.000000       3.000000   \n",
              "max                1.000000        1.000000    4.000000       4.000000   \n",
              "\n",
              "       traffic_safety  walkability  nomad_score  \n",
              "count      730.000000   730.000000   730.000000  \n",
              "mean         3.473973     3.272603     3.906561  \n",
              "std          0.948615     1.210806     0.432857  \n",
              "min          1.000000     1.000000     2.260000  \n",
              "25%          3.000000     2.000000     3.630000  \n",
              "50%          4.000000     4.000000     3.970000  \n",
              "75%          4.000000     4.000000     4.250000  \n",
              "max          4.000000     4.000000     4.970000  \n",
              "\n",
              "[8 rows x 29 columns]"
            ]
          },
          "metadata": {
            "tags": []
          },
          "execution_count": 6
        }
      ]
    },
    {
      "metadata": {
        "id": "olCyu6KJCwfJ",
        "colab_type": "code",
        "colab": {}
      },
      "cell_type": "code",
      "source": [
        "# Scaling the inputs using the sklearn standard scaler\n",
        "\n",
        "from sklearn.preprocessing import StandardScaler\n",
        "scaler = StandardScaler()\n",
        "\n",
        "X_scaled = scaler.fit_transform(X)"
      ],
      "execution_count": 0,
      "outputs": []
    },
    {
      "metadata": {
        "id": "AUaaWxuMDX2z",
        "colab_type": "code",
        "colab": {}
      },
      "cell_type": "code",
      "source": [
        "# Split the data into train-test\n",
        "\n",
        "from sklearn.model_selection import train_test_split\n",
        "\n",
        "X_train, X_test, y_train, y_test = train_test_split(X_scaled, y, test_size = 0.2, random_state = 42)"
      ],
      "execution_count": 0,
      "outputs": []
    },
    {
      "metadata": {
        "id": "fTWtVteLss3z",
        "colab_type": "text"
      },
      "cell_type": "markdown",
      "source": [
        "## Let's run some baseline models\n",
        "\n",
        " - Logistic regression\n",
        " - XGboost"
      ]
    },
    {
      "metadata": {
        "id": "4bf7Sl0htgNR",
        "colab_type": "text"
      },
      "cell_type": "markdown",
      "source": [
        "### Logistic regression"
      ]
    },
    {
      "metadata": {
        "id": "aBgnjQiADHcS",
        "colab_type": "code",
        "colab": {}
      },
      "cell_type": "code",
      "source": [
        "# Logistic regression\n",
        "from sklearn.linear_model import LogisticRegression\n",
        "classifier = LogisticRegression()"
      ],
      "execution_count": 0,
      "outputs": []
    },
    {
      "metadata": {
        "id": "on5aVZ6ltKqX",
        "colab_type": "code",
        "colab": {
          "base_uri": "https://localhost:8080/",
          "height": 85
        },
        "outputId": "74fda507-f414-4065-a284-1b7393d29635"
      },
      "cell_type": "code",
      "source": [
        "# Fit the model\n",
        "classifier.fit(X_train, y_train)"
      ],
      "execution_count": 10,
      "outputs": [
        {
          "output_type": "execute_result",
          "data": {
            "text/plain": [
              "LogisticRegression(C=1.0, class_weight=None, dual=False, fit_intercept=True,\n",
              "          intercept_scaling=1, max_iter=100, multi_class='ovr', n_jobs=1,\n",
              "          penalty='l2', random_state=None, solver='liblinear', tol=0.0001,\n",
              "          verbose=0, warm_start=False)"
            ]
          },
          "metadata": {
            "tags": []
          },
          "execution_count": 10
        }
      ]
    },
    {
      "metadata": {
        "id": "B0m19pqLDOzE",
        "colab_type": "code",
        "colab": {
          "base_uri": "https://localhost:8080/",
          "height": 255
        },
        "outputId": "32c7983c-0d1a-4d1f-d14a-748ac20505c0"
      },
      "cell_type": "code",
      "source": [
        "# Evaluate the results\n",
        "\n",
        "print('score:' + str(classifier.score(X_test, y_test)))\n",
        "print() #empty line\n",
        "\n",
        "\n",
        "y_pred = classifier.predict(X_test)\n",
        "report = classification_report(y_test, y_pred)\n",
        "print(report)"
      ],
      "execution_count": 11,
      "outputs": [
        {
          "output_type": "stream",
          "text": [
            "score:0.8287671232876712\n",
            "\n",
            "             precision    recall  f1-score   support\n",
            "\n",
            "          0       0.57      0.57      0.57         7\n",
            "          1       0.88      0.88      0.88        41\n",
            "          2       0.83      0.90      0.86        49\n",
            "          3       0.89      0.85      0.87        20\n",
            "          4       0.67      0.33      0.44         6\n",
            "          5       0.81      1.00      0.89        17\n",
            "          6       0.50      0.17      0.25         6\n",
            "\n",
            "avg / total       0.82      0.83      0.82       146\n",
            "\n"
          ],
          "name": "stdout"
        }
      ]
    },
    {
      "metadata": {
        "id": "4CeUeFdutizX",
        "colab_type": "text"
      },
      "cell_type": "markdown",
      "source": [
        "### XGBoost - eXtreme Gradient Boosting\n",
        "\n",
        "![alt text](https://raw.githubusercontent.com/dmlc/dmlc.github.io/master/img/logo-m/xgboost.png)\n",
        "\n",
        "XGBoost is a super efficient and popular algo (not from sklearn)\n",
        "read more  [here:](https://xgboost.readthedocs.io/en/latest/tutorials/model.html)\n",
        "\n",
        "It will be hard to beat the result of that model (even using it \"out of the box\")"
      ]
    },
    {
      "metadata": {
        "id": "-fm8ANn3tlRM",
        "colab_type": "code",
        "colab": {}
      },
      "cell_type": "code",
      "source": [
        "# import xgb\n",
        "from xgboost import XGBClassifier\n",
        "\n",
        "classifier = XGBClassifier()"
      ],
      "execution_count": 0,
      "outputs": []
    },
    {
      "metadata": {
        "id": "MB0hwmZ-tzD_",
        "colab_type": "code",
        "colab": {
          "base_uri": "https://localhost:8080/",
          "height": 119
        },
        "outputId": "74e679ef-bd86-4324-aada-0f05cefb627c"
      },
      "cell_type": "code",
      "source": [
        "classifier.fit(X_train, y_train)"
      ],
      "execution_count": 13,
      "outputs": [
        {
          "output_type": "execute_result",
          "data": {
            "text/plain": [
              "XGBClassifier(base_score=0.5, booster='gbtree', colsample_bylevel=1,\n",
              "       colsample_bytree=1, gamma=0, learning_rate=0.1, max_delta_step=0,\n",
              "       max_depth=3, min_child_weight=1, missing=None, n_estimators=100,\n",
              "       n_jobs=1, nthread=None, objective='multi:softprob', random_state=0,\n",
              "       reg_alpha=0, reg_lambda=1, scale_pos_weight=1, seed=None,\n",
              "       silent=True, subsample=1)"
            ]
          },
          "metadata": {
            "tags": []
          },
          "execution_count": 13
        }
      ]
    },
    {
      "metadata": {
        "id": "9zTRRDYmuy7J",
        "colab_type": "code",
        "colab": {
          "base_uri": "https://localhost:8080/",
          "height": 343
        },
        "outputId": "a635ec2e-2716-45f3-ac40-ed89c88de5f8"
      },
      "cell_type": "code",
      "source": [
        "print('score:' + str(classifier.score(X_test, y_test)))\n",
        "print() #empty line\n",
        "\n",
        "\n",
        "y_pred = classifier.predict(X_test)\n",
        "report = classification_report(y_test, y_pred)\n",
        "print(report)"
      ],
      "execution_count": 14,
      "outputs": [
        {
          "output_type": "stream",
          "text": [
            "score:0.9041095890410958\n",
            "\n",
            "             precision    recall  f1-score   support\n",
            "\n",
            "          0       0.75      0.86      0.80         7\n",
            "          1       0.93      0.95      0.94        41\n",
            "          2       0.89      0.98      0.93        49\n",
            "          3       0.89      0.85      0.87        20\n",
            "          4       1.00      0.33      0.50         6\n",
            "          5       0.94      1.00      0.97        17\n",
            "          6       1.00      0.50      0.67         6\n",
            "\n",
            "avg / total       0.91      0.90      0.90       146\n",
            "\n"
          ],
          "name": "stdout"
        },
        {
          "output_type": "stream",
          "text": [
            "/usr/local/lib/python3.6/dist-packages/sklearn/preprocessing/label.py:151: DeprecationWarning: The truth value of an empty array is ambiguous. Returning False, but in future this will result in an error. Use `array.size > 0` to check that an array is not empty.\n",
            "  if diff:\n",
            "/usr/local/lib/python3.6/dist-packages/sklearn/preprocessing/label.py:151: DeprecationWarning: The truth value of an empty array is ambiguous. Returning False, but in future this will result in an error. Use `array.size > 0` to check that an array is not empty.\n",
            "  if diff:\n"
          ],
          "name": "stderr"
        }
      ]
    },
    {
      "metadata": {
        "id": "DnasLIh-vl0w",
        "colab_type": "text"
      },
      "cell_type": "markdown",
      "source": [
        "## Let's prepare our output variable for the neural net model\n",
        "\n",
        "![alt text](https://www.machinelearningplus.com/wp-content/uploads/2018/03/one-hot-encoding.png)\n",
        "\n",
        "\n",
        "We need to create a dummy-matrix for our output-layer. In ML this is often called One Hot Encoding.\n",
        "\n",
        "Reverse transformation is easy (yet not too obvious) using: ```np.argmax(encoded_dummy_matrix, axis=1)```\n",
        "\n",
        "Given possible values 0, 1 and 2, the encoder transforms\n",
        "\n",
        "0: to 1, 0, 0\n",
        "1: to 0, 1, 0\n",
        "2: to 0, 0, 1\n",
        "\n",
        "np argmax will do the reverse. However, we have to remember that the neural net will not spit out 0/1 values but something like:\n",
        "\n",
        "```0.2, 0.6, 0.2```\n",
        "\n",
        "in that case we can say that the predicted class is 1. Why? Because the value at index 1 is highest."
      ]
    },
    {
      "metadata": {
        "id": "gcTqQHLQ2Phk",
        "colab_type": "code",
        "colab": {}
      },
      "cell_type": "code",
      "source": [
        ""
      ],
      "execution_count": 0,
      "outputs": []
    },
    {
      "metadata": {
        "id": "oNt4D5n2F3Kl",
        "colab_type": "code",
        "colab": {}
      },
      "cell_type": "code",
      "source": [
        "# Import and instantiate the one hot encoder\n",
        "\n",
        "from sklearn.preprocessing import OneHotEncoder\n",
        "one_hot_enc = OneHotEncoder()"
      ],
      "execution_count": 0,
      "outputs": []
    },
    {
      "metadata": {
        "id": "X-jEL_MDxk1w",
        "colab_type": "text"
      },
      "cell_type": "markdown",
      "source": [
        "Remember that our initial y has to be reshaped from being a long vector with *n* elements to a 2D matrix of shape (n, 1)"
      ]
    },
    {
      "metadata": {
        "id": "QCV5KhePF0_Q",
        "colab_type": "code",
        "colab": {}
      },
      "cell_type": "code",
      "source": [
        "# Create the dummy-matrix and reshaping (actually the other way around)\n",
        "\n",
        "y_matrix = one_hot_enc.fit_transform(y.reshape(-1,1))"
      ],
      "execution_count": 0,
      "outputs": []
    },
    {
      "metadata": {
        "id": "pxGO7G1GGie_",
        "colab_type": "code",
        "colab": {}
      },
      "cell_type": "code",
      "source": [
        "# Create new train and test-splits\n",
        "\n",
        "from sklearn.model_selection import train_test_split\n",
        "X_train, X_test, y_train, y_test = train_test_split(X_scaled, y_matrix, test_size = 0.2, random_state = 42)"
      ],
      "execution_count": 0,
      "outputs": []
    },
    {
      "metadata": {
        "id": "Bdiu1VEdGk72",
        "colab_type": "code",
        "colab": {
          "base_uri": "https://localhost:8080/",
          "height": 51
        },
        "outputId": "36e70d3c-d9f5-48e3-8e89-a5112c37d875"
      },
      "cell_type": "code",
      "source": [
        "# Quick check of the created sets\n",
        "\n",
        "print(X_train.shape)\n",
        "print(y_train.shape)"
      ],
      "execution_count": 18,
      "outputs": [
        {
          "output_type": "stream",
          "text": [
            "(584, 29)\n",
            "(584, 7)\n"
          ],
          "name": "stdout"
        }
      ]
    },
    {
      "metadata": {
        "id": "LFc2nZf1yRH_",
        "colab_type": "text"
      },
      "cell_type": "markdown",
      "source": [
        "## Let's build a neural net\n",
        "\n",
        "![alt text](https://www.neuraldesigner.com/images/deep_neural_network.png)\n",
        "\n",
        "You can think about neural net architecture with Keras as of some sort of Lego.\n",
        "We will be building different layers with different bricks"
      ]
    },
    {
      "metadata": {
        "id": "Kct6Ri8bEgma",
        "colab_type": "code",
        "colab": {
          "base_uri": "https://localhost:8080/",
          "height": 34
        },
        "outputId": "b47eaca3-1436-41b9-84e2-937978b9b385"
      },
      "cell_type": "code",
      "source": [
        "# Importing the keras library for deep learning\n",
        "\n",
        "# Essential elements of Keras\n",
        "import keras\n",
        "from keras.models import Sequential\n",
        "from keras.layers import Dense\n",
        "\n",
        "# Dropout layer\n",
        "from keras.layers import Dropout\n",
        "\n",
        "# Additional stuff: bells and whistles\n",
        "from keras.callbacks import ModelCheckpoint\n",
        "from keras.models import load_model"
      ],
      "execution_count": 19,
      "outputs": [
        {
          "output_type": "stream",
          "text": [
            "Using TensorFlow backend.\n"
          ],
          "name": "stderr"
        }
      ]
    },
    {
      "metadata": {
        "id": "op2uf_AjFRou",
        "colab_type": "code",
        "colab": {}
      },
      "cell_type": "code",
      "source": [
        "# As in Sklearn and other models we instatiate the classifier first (nothing new here)\n",
        "classifier = Sequential() "
      ],
      "execution_count": 0,
      "outputs": []
    },
    {
      "metadata": {
        "id": "ngv5xHQO2l8A",
        "colab_type": "text"
      },
      "cell_type": "markdown",
      "source": [
        "**A bit on the below architecture**\n",
        "\n",
        "We start with an input layer, where we have to specify the input dimension: Here it is 29 because we have 29 variables for each observation (but actually you can pick what you feel like.)\n",
        "\n",
        "We add one hidden layer with 32 neurons. Just because (experiment with other numbers)!\n",
        "We also add 2 dropout layers. Here it will randomly freeze 30% of the hidden layer neurons each epoch. That step introduces random noise and prevents (to some extent) overfitting. Dropout is one very easy type of regularization.\n",
        "\n",
        "[More on Dropout](https://medium.com/@amarbudhiraja/https-medium-com-amarbudhiraja-learning-less-to-learn-better-dropout-in-deep-machine-learning-74334da4bfc5)\n",
        "\n",
        "We use relu as activation function\n",
        "\n",
        "Finally, we add our output layer with 7 units and use the softmax activation. More on activation functions below."
      ]
    },
    {
      "metadata": {
        "id": "TIM63BBWy9f4",
        "colab_type": "code",
        "colab": {}
      },
      "cell_type": "code",
      "source": [
        "# From here we build up the network one layer at a time using the \"add\" method\n",
        "\n",
        "#### Input Layer ####\n",
        "classifier.add(Dense(units = 29, activation='relu', input_dim = 29))\n",
        "classifier.add(Dropout(rate = 0.3))\n",
        "\n",
        "#### Hidden ####\n",
        "classifier.add(Dense(units = 32, activation='relu'))\n",
        "classifier.add(Dropout(rate = 0.3))\n",
        "\n",
        "#### Output ####\n",
        "classifier.add(Dense(units = 7, activation='softmax'))"
      ],
      "execution_count": 0,
      "outputs": []
    },
    {
      "metadata": {
        "id": "5taeKqetz8qh",
        "colab_type": "text"
      },
      "cell_type": "markdown",
      "source": [
        "**On ReLU and Softmax**\n",
        "\n",
        "ReLU stands for rectified linear unit and is defined as: y = max(0, x)\n",
        "It is the most used activation function for neural nets (today). A few years back the Hyperbolic tangent or Sigmoid funcitons have been very common but it turns out that ReLU performs better.\n",
        "\n",
        "You can read more on ReLU [here.](https://medium.com/tinymind/a-practical-guide-to-relu-b83ca804f1f7)\n",
        "\n",
        "\n",
        "In our output layer we use the Softmax function that outputs probabilities that sum up to 1. A great post on softmax and more material [here](https://medium.com/data-science-bootcamp/understand-the-softmax-function-in-minutes-f3a59641e86d) \n",
        "\n",
        "\n",
        "\n",
        "![alt text](https://cdn-images-1.medium.com/max/1600/1*DfMRHwxY1gyyDmrIAd-gjQ.png)\n"
      ]
    },
    {
      "metadata": {
        "id": "h-6m17ki384R",
        "colab_type": "text"
      },
      "cell_type": "markdown",
      "source": [
        "Now are done building the network but we are not finished. For it to run, we need to compile it.\n",
        "\n",
        "Here we need to specify the optimizer that we want to use. Here, we use the efficient \"Adam\" optimizer. The Adam optimization algorithm is an extension to stochastic gradient descen.t Read more on that [here](https://machinelearningmastery.com/adam-optimization-algorithm-for-deep-learning/)\n",
        "\n",
        "We also need to specify a loss function. Given that we are dealing with a multi-class classification problem, we pick categorical_crossentropy. Please check out the [Keras documentation](https://keras.io/losses/) for more info on loss functions.\n",
        "\n",
        "We evaluate accuracy during training"
      ]
    },
    {
      "metadata": {
        "id": "ymmrfHCtzQVt",
        "colab_type": "code",
        "colab": {}
      },
      "cell_type": "code",
      "source": [
        "#### COMPILE ####\n",
        "classifier.compile(optimizer=\"adam\", loss = 'categorical_crossentropy', metrics = ['accuracy'])"
      ],
      "execution_count": 0,
      "outputs": []
    },
    {
      "metadata": {
        "id": "GD8SJqD0FWLj",
        "colab_type": "code",
        "colab": {
          "base_uri": "https://localhost:8080/",
          "height": 306
        },
        "outputId": "4ecf7382-26fe-4405-9310-c4287e828967"
      },
      "cell_type": "code",
      "source": [
        "# Let's check out how our network looks like\n",
        "\n",
        "classifier.summary()"
      ],
      "execution_count": 23,
      "outputs": [
        {
          "output_type": "stream",
          "text": [
            "_________________________________________________________________\n",
            "Layer (type)                 Output Shape              Param #   \n",
            "=================================================================\n",
            "dense_1 (Dense)              (None, 29)                870       \n",
            "_________________________________________________________________\n",
            "dropout_1 (Dropout)          (None, 29)                0         \n",
            "_________________________________________________________________\n",
            "dense_2 (Dense)              (None, 32)                960       \n",
            "_________________________________________________________________\n",
            "dropout_2 (Dropout)          (None, 32)                0         \n",
            "_________________________________________________________________\n",
            "dense_3 (Dense)              (None, 7)                 231       \n",
            "=================================================================\n",
            "Total params: 2,061\n",
            "Trainable params: 2,061\n",
            "Non-trainable params: 0\n",
            "_________________________________________________________________\n"
          ],
          "name": "stdout"
        }
      ]
    },
    {
      "metadata": {
        "id": "QP_-rQ1O6Cpo",
        "colab_type": "text"
      },
      "cell_type": "markdown",
      "source": [
        "Now how do we get to the number of 2061 trainable parameters???\n",
        "\n",
        "Easy:\n",
        "\n",
        "in the first layer we have 29 neurons, looking at 29 inputs, that means 29 * 29 weights + 29 neurons that will assume some values.\n",
        "\n",
        "```29*29+29 = 870```\n",
        "\n",
        "```29*32+32 = 960```\n",
        "\n",
        "```32*7+7 = 231```"
      ]
    },
    {
      "metadata": {
        "id": "fLJcC1qV7MXR",
        "colab_type": "code",
        "colab": {}
      },
      "cell_type": "code",
      "source": [
        "# The checkpointer is not necessary but useful, as it will save the best performing model for later use\n",
        "checkpointer = ModelCheckpoint(filepath=\"model.h5\",\n",
        "                               verbose=0,\n",
        "                               save_best_only=True)"
      ],
      "execution_count": 0,
      "outputs": []
    },
    {
      "metadata": {
        "id": "_4HUyrVnG-I-",
        "colab_type": "code",
        "colab": {
          "base_uri": "https://localhost:8080/",
          "height": 8534
        },
        "outputId": "053a2a68-695d-40f4-9929-7f25f38ce50e"
      },
      "cell_type": "code",
      "source": [
        "# We train the model with the fit method (surprise). We specify some parameters: how many observations per batch, how many epochs to train\n",
        "# the rest is optional but nice (calculate a test-set-performance score at each epoch, shuffle the observations in each batch as well as)\n",
        "# use the callback which saves the best model.\n",
        "history = classifier.fit(X_train, y_train, batch_size= 32, epochs= 250, validation_data=(X_test, y_test), shuffle=True,\n",
        "                        callbacks=[checkpointer])"
      ],
      "execution_count": 25,
      "outputs": [
        {
          "output_type": "stream",
          "text": [
            "Train on 584 samples, validate on 146 samples\n",
            "Epoch 1/250\n",
            "584/584 [==============================] - 1s 2ms/step - loss: 2.1895 - acc: 0.1558 - val_loss: 1.9569 - val_acc: 0.1918\n",
            "Epoch 2/250\n",
            "584/584 [==============================] - 0s 268us/step - loss: 1.8881 - acc: 0.2363 - val_loss: 1.7478 - val_acc: 0.3082\n",
            "Epoch 3/250\n",
            "584/584 [==============================] - 0s 256us/step - loss: 1.6994 - acc: 0.3459 - val_loss: 1.5733 - val_acc: 0.4178\n",
            "Epoch 4/250\n",
            "584/584 [==============================] - 0s 276us/step - loss: 1.5428 - acc: 0.4127 - val_loss: 1.4316 - val_acc: 0.4795\n",
            "Epoch 5/250\n",
            "584/584 [==============================] - 0s 257us/step - loss: 1.4731 - acc: 0.4281 - val_loss: 1.3273 - val_acc: 0.5274\n",
            "Epoch 6/250\n",
            "584/584 [==============================] - 0s 262us/step - loss: 1.4021 - acc: 0.4384 - val_loss: 1.2657 - val_acc: 0.5753\n",
            "Epoch 7/250\n",
            "584/584 [==============================] - 0s 260us/step - loss: 1.3175 - acc: 0.5103 - val_loss: 1.2079 - val_acc: 0.6096\n",
            "Epoch 8/250\n",
            "584/584 [==============================] - 0s 236us/step - loss: 1.2387 - acc: 0.5411 - val_loss: 1.1648 - val_acc: 0.6370\n",
            "Epoch 9/250\n",
            "584/584 [==============================] - 0s 242us/step - loss: 1.2065 - acc: 0.5274 - val_loss: 1.1132 - val_acc: 0.6644\n",
            "Epoch 10/250\n",
            "584/584 [==============================] - 0s 260us/step - loss: 1.1588 - acc: 0.5942 - val_loss: 1.0807 - val_acc: 0.6438\n",
            "Epoch 11/250\n",
            "584/584 [==============================] - 0s 239us/step - loss: 1.1302 - acc: 0.5839 - val_loss: 1.0407 - val_acc: 0.6781\n",
            "Epoch 12/250\n",
            "584/584 [==============================] - 0s 244us/step - loss: 1.0936 - acc: 0.5890 - val_loss: 1.0142 - val_acc: 0.6918\n",
            "Epoch 13/250\n",
            "584/584 [==============================] - 0s 251us/step - loss: 1.0687 - acc: 0.5959 - val_loss: 0.9734 - val_acc: 0.6918\n",
            "Epoch 14/250\n",
            "584/584 [==============================] - 0s 246us/step - loss: 1.0940 - acc: 0.5976 - val_loss: 0.9487 - val_acc: 0.6986\n",
            "Epoch 15/250\n",
            "584/584 [==============================] - 0s 265us/step - loss: 1.0095 - acc: 0.6164 - val_loss: 0.9394 - val_acc: 0.6986\n",
            "Epoch 16/250\n",
            "584/584 [==============================] - 0s 247us/step - loss: 0.9864 - acc: 0.6507 - val_loss: 0.9109 - val_acc: 0.7055\n",
            "Epoch 17/250\n",
            "584/584 [==============================] - 0s 251us/step - loss: 1.0086 - acc: 0.6370 - val_loss: 0.8906 - val_acc: 0.6986\n",
            "Epoch 18/250\n",
            "584/584 [==============================] - 0s 246us/step - loss: 0.9719 - acc: 0.6644 - val_loss: 0.8691 - val_acc: 0.6986\n",
            "Epoch 19/250\n",
            "584/584 [==============================] - 0s 255us/step - loss: 0.9502 - acc: 0.6798 - val_loss: 0.8415 - val_acc: 0.7192\n",
            "Epoch 20/250\n",
            "584/584 [==============================] - 0s 249us/step - loss: 0.9474 - acc: 0.6490 - val_loss: 0.8214 - val_acc: 0.7055\n",
            "Epoch 21/250\n",
            "584/584 [==============================] - 0s 264us/step - loss: 0.8792 - acc: 0.6712 - val_loss: 0.7981 - val_acc: 0.7055\n",
            "Epoch 22/250\n",
            "584/584 [==============================] - 0s 243us/step - loss: 0.8516 - acc: 0.6832 - val_loss: 0.7860 - val_acc: 0.7123\n",
            "Epoch 23/250\n",
            "584/584 [==============================] - 0s 244us/step - loss: 0.8834 - acc: 0.6781 - val_loss: 0.7683 - val_acc: 0.7192\n",
            "Epoch 24/250\n",
            "584/584 [==============================] - 0s 251us/step - loss: 0.8226 - acc: 0.6832 - val_loss: 0.7538 - val_acc: 0.7123\n",
            "Epoch 25/250\n",
            "584/584 [==============================] - 0s 242us/step - loss: 0.7759 - acc: 0.7158 - val_loss: 0.7410 - val_acc: 0.7192\n",
            "Epoch 26/250\n",
            "584/584 [==============================] - 0s 245us/step - loss: 0.8075 - acc: 0.7158 - val_loss: 0.7237 - val_acc: 0.7329\n",
            "Epoch 27/250\n",
            "584/584 [==============================] - 0s 270us/step - loss: 0.7647 - acc: 0.7123 - val_loss: 0.7113 - val_acc: 0.7397\n",
            "Epoch 28/250\n",
            "584/584 [==============================] - 0s 247us/step - loss: 0.7737 - acc: 0.7123 - val_loss: 0.6963 - val_acc: 0.7534\n",
            "Epoch 29/250\n",
            "584/584 [==============================] - 0s 246us/step - loss: 0.7843 - acc: 0.7072 - val_loss: 0.6813 - val_acc: 0.7534\n",
            "Epoch 30/250\n",
            "584/584 [==============================] - 0s 247us/step - loss: 0.7320 - acc: 0.7449 - val_loss: 0.6747 - val_acc: 0.7808\n",
            "Epoch 31/250\n",
            "584/584 [==============================] - 0s 240us/step - loss: 0.7547 - acc: 0.7312 - val_loss: 0.6621 - val_acc: 0.7808\n",
            "Epoch 32/250\n",
            "584/584 [==============================] - 0s 252us/step - loss: 0.6836 - acc: 0.7586 - val_loss: 0.6428 - val_acc: 0.7808\n",
            "Epoch 33/250\n",
            "584/584 [==============================] - 0s 261us/step - loss: 0.7168 - acc: 0.7363 - val_loss: 0.6420 - val_acc: 0.7808\n",
            "Epoch 34/250\n",
            "584/584 [==============================] - 0s 248us/step - loss: 0.6953 - acc: 0.7551 - val_loss: 0.6306 - val_acc: 0.7877\n",
            "Epoch 35/250\n",
            "584/584 [==============================] - 0s 236us/step - loss: 0.7324 - acc: 0.7295 - val_loss: 0.6070 - val_acc: 0.8219\n",
            "Epoch 36/250\n",
            "584/584 [==============================] - 0s 242us/step - loss: 0.7074 - acc: 0.7449 - val_loss: 0.6042 - val_acc: 0.8151\n",
            "Epoch 37/250\n",
            "584/584 [==============================] - 0s 246us/step - loss: 0.6697 - acc: 0.7671 - val_loss: 0.5998 - val_acc: 0.8151\n",
            "Epoch 38/250\n",
            "584/584 [==============================] - 0s 248us/step - loss: 0.6687 - acc: 0.7500 - val_loss: 0.5970 - val_acc: 0.8151\n",
            "Epoch 39/250\n",
            "584/584 [==============================] - 0s 262us/step - loss: 0.6310 - acc: 0.7774 - val_loss: 0.5943 - val_acc: 0.8151\n",
            "Epoch 40/250\n",
            "584/584 [==============================] - 0s 241us/step - loss: 0.6361 - acc: 0.7877 - val_loss: 0.5828 - val_acc: 0.8151\n",
            "Epoch 41/250\n",
            "584/584 [==============================] - 0s 238us/step - loss: 0.6553 - acc: 0.7705 - val_loss: 0.5744 - val_acc: 0.8219\n",
            "Epoch 42/250\n",
            "584/584 [==============================] - 0s 253us/step - loss: 0.6299 - acc: 0.7808 - val_loss: 0.5692 - val_acc: 0.8082\n",
            "Epoch 43/250\n",
            "584/584 [==============================] - 0s 242us/step - loss: 0.6348 - acc: 0.7705 - val_loss: 0.5699 - val_acc: 0.8082\n",
            "Epoch 44/250\n",
            "584/584 [==============================] - 0s 237us/step - loss: 0.6127 - acc: 0.7654 - val_loss: 0.5625 - val_acc: 0.8082\n",
            "Epoch 45/250\n",
            "584/584 [==============================] - 0s 266us/step - loss: 0.5964 - acc: 0.7877 - val_loss: 0.5611 - val_acc: 0.8151\n",
            "Epoch 46/250\n",
            "584/584 [==============================] - 0s 233us/step - loss: 0.5752 - acc: 0.7928 - val_loss: 0.5490 - val_acc: 0.8151\n",
            "Epoch 47/250\n",
            "584/584 [==============================] - 0s 242us/step - loss: 0.5485 - acc: 0.7877 - val_loss: 0.5337 - val_acc: 0.8151\n",
            "Epoch 48/250\n",
            "584/584 [==============================] - 0s 245us/step - loss: 0.5630 - acc: 0.7860 - val_loss: 0.5307 - val_acc: 0.8219\n",
            "Epoch 49/250\n",
            "584/584 [==============================] - 0s 252us/step - loss: 0.5691 - acc: 0.8065 - val_loss: 0.5364 - val_acc: 0.8082\n",
            "Epoch 50/250\n",
            "584/584 [==============================] - 0s 245us/step - loss: 0.5816 - acc: 0.7945 - val_loss: 0.5383 - val_acc: 0.7945\n",
            "Epoch 51/250\n",
            "584/584 [==============================] - 0s 258us/step - loss: 0.5573 - acc: 0.8031 - val_loss: 0.5137 - val_acc: 0.8219\n",
            "Epoch 52/250\n",
            "584/584 [==============================] - 0s 244us/step - loss: 0.5687 - acc: 0.7928 - val_loss: 0.5171 - val_acc: 0.8288\n",
            "Epoch 53/250\n",
            "584/584 [==============================] - 0s 238us/step - loss: 0.5434 - acc: 0.8082 - val_loss: 0.5234 - val_acc: 0.8014\n",
            "Epoch 54/250\n",
            "584/584 [==============================] - 0s 241us/step - loss: 0.5284 - acc: 0.8116 - val_loss: 0.5269 - val_acc: 0.8082\n",
            "Epoch 55/250\n",
            "584/584 [==============================] - 0s 247us/step - loss: 0.5363 - acc: 0.8031 - val_loss: 0.5159 - val_acc: 0.8356\n",
            "Epoch 56/250\n",
            "584/584 [==============================] - 0s 244us/step - loss: 0.5054 - acc: 0.8185 - val_loss: 0.5053 - val_acc: 0.8288\n",
            "Epoch 57/250\n",
            "584/584 [==============================] - 0s 242us/step - loss: 0.5594 - acc: 0.7962 - val_loss: 0.5065 - val_acc: 0.8288\n",
            "Epoch 58/250\n",
            "584/584 [==============================] - 0s 265us/step - loss: 0.5141 - acc: 0.7945 - val_loss: 0.5041 - val_acc: 0.8288\n",
            "Epoch 59/250\n",
            "584/584 [==============================] - 0s 241us/step - loss: 0.5076 - acc: 0.8151 - val_loss: 0.4991 - val_acc: 0.8356\n",
            "Epoch 60/250\n",
            "584/584 [==============================] - 0s 253us/step - loss: 0.4606 - acc: 0.8527 - val_loss: 0.4860 - val_acc: 0.8356\n",
            "Epoch 61/250\n",
            "584/584 [==============================] - 0s 251us/step - loss: 0.4863 - acc: 0.8356 - val_loss: 0.4861 - val_acc: 0.8356\n",
            "Epoch 62/250\n",
            "584/584 [==============================] - 0s 241us/step - loss: 0.4666 - acc: 0.8305 - val_loss: 0.4781 - val_acc: 0.8356\n",
            "Epoch 63/250\n",
            "584/584 [==============================] - 0s 243us/step - loss: 0.5195 - acc: 0.8202 - val_loss: 0.4705 - val_acc: 0.8356\n",
            "Epoch 64/250\n",
            "584/584 [==============================] - 0s 260us/step - loss: 0.4799 - acc: 0.8339 - val_loss: 0.4614 - val_acc: 0.8493\n",
            "Epoch 65/250\n",
            "584/584 [==============================] - 0s 238us/step - loss: 0.4795 - acc: 0.8236 - val_loss: 0.4654 - val_acc: 0.8493\n",
            "Epoch 66/250\n",
            "584/584 [==============================] - 0s 244us/step - loss: 0.4500 - acc: 0.8271 - val_loss: 0.4555 - val_acc: 0.8425\n",
            "Epoch 67/250\n",
            "584/584 [==============================] - 0s 249us/step - loss: 0.4522 - acc: 0.8219 - val_loss: 0.4569 - val_acc: 0.8425\n",
            "Epoch 68/250\n",
            "584/584 [==============================] - 0s 247us/step - loss: 0.4757 - acc: 0.8271 - val_loss: 0.4578 - val_acc: 0.8425\n",
            "Epoch 69/250\n",
            "584/584 [==============================] - 0s 247us/step - loss: 0.4751 - acc: 0.8185 - val_loss: 0.4473 - val_acc: 0.8425\n",
            "Epoch 70/250\n",
            "584/584 [==============================] - 0s 254us/step - loss: 0.4404 - acc: 0.8596 - val_loss: 0.4386 - val_acc: 0.8562\n",
            "Epoch 71/250\n",
            "584/584 [==============================] - 0s 251us/step - loss: 0.4445 - acc: 0.8390 - val_loss: 0.4366 - val_acc: 0.8356\n",
            "Epoch 72/250\n",
            "584/584 [==============================] - 0s 236us/step - loss: 0.4508 - acc: 0.8288 - val_loss: 0.4334 - val_acc: 0.8425\n",
            "Epoch 73/250\n",
            "584/584 [==============================] - 0s 249us/step - loss: 0.4531 - acc: 0.8373 - val_loss: 0.4305 - val_acc: 0.8356\n",
            "Epoch 74/250\n",
            "584/584 [==============================] - 0s 241us/step - loss: 0.4340 - acc: 0.8442 - val_loss: 0.4302 - val_acc: 0.8630\n",
            "Epoch 75/250\n",
            "584/584 [==============================] - 0s 247us/step - loss: 0.4542 - acc: 0.8442 - val_loss: 0.4346 - val_acc: 0.8699\n",
            "Epoch 76/250\n",
            "584/584 [==============================] - 0s 235us/step - loss: 0.4737 - acc: 0.8356 - val_loss: 0.4317 - val_acc: 0.8493\n",
            "Epoch 77/250\n",
            "584/584 [==============================] - 0s 260us/step - loss: 0.5003 - acc: 0.8151 - val_loss: 0.4133 - val_acc: 0.8630\n",
            "Epoch 78/250\n",
            "584/584 [==============================] - 0s 242us/step - loss: 0.4621 - acc: 0.8459 - val_loss: 0.4212 - val_acc: 0.8699\n",
            "Epoch 79/250\n",
            "584/584 [==============================] - 0s 260us/step - loss: 0.4125 - acc: 0.8425 - val_loss: 0.4107 - val_acc: 0.8630\n",
            "Epoch 80/250\n",
            "584/584 [==============================] - 0s 256us/step - loss: 0.4377 - acc: 0.8356 - val_loss: 0.4202 - val_acc: 0.8630\n",
            "Epoch 81/250\n",
            "584/584 [==============================] - 0s 244us/step - loss: 0.4226 - acc: 0.8390 - val_loss: 0.4196 - val_acc: 0.8562\n",
            "Epoch 82/250\n",
            "584/584 [==============================] - 0s 244us/step - loss: 0.4581 - acc: 0.8253 - val_loss: 0.4245 - val_acc: 0.8562\n",
            "Epoch 83/250\n",
            "584/584 [==============================] - 0s 237us/step - loss: 0.4374 - acc: 0.8390 - val_loss: 0.4271 - val_acc: 0.8699\n",
            "Epoch 84/250\n",
            "584/584 [==============================] - 0s 259us/step - loss: 0.4442 - acc: 0.8630 - val_loss: 0.4324 - val_acc: 0.8630\n",
            "Epoch 85/250\n",
            "584/584 [==============================] - 0s 244us/step - loss: 0.4211 - acc: 0.8459 - val_loss: 0.4233 - val_acc: 0.8425\n",
            "Epoch 86/250\n",
            "584/584 [==============================] - 0s 241us/step - loss: 0.4151 - acc: 0.8527 - val_loss: 0.4199 - val_acc: 0.8562\n",
            "Epoch 87/250\n",
            "584/584 [==============================] - 0s 256us/step - loss: 0.3829 - acc: 0.8682 - val_loss: 0.4163 - val_acc: 0.8493\n",
            "Epoch 88/250\n",
            "584/584 [==============================] - 0s 250us/step - loss: 0.4173 - acc: 0.8596 - val_loss: 0.4125 - val_acc: 0.8493\n",
            "Epoch 89/250\n",
            "584/584 [==============================] - 0s 248us/step - loss: 0.4079 - acc: 0.8596 - val_loss: 0.4012 - val_acc: 0.8630\n",
            "Epoch 90/250\n",
            "584/584 [==============================] - 0s 257us/step - loss: 0.4106 - acc: 0.8545 - val_loss: 0.4027 - val_acc: 0.8425\n",
            "Epoch 91/250\n",
            "584/584 [==============================] - 0s 241us/step - loss: 0.3844 - acc: 0.8682 - val_loss: 0.4025 - val_acc: 0.8356\n",
            "Epoch 92/250\n",
            "584/584 [==============================] - 0s 242us/step - loss: 0.4392 - acc: 0.8476 - val_loss: 0.4043 - val_acc: 0.8493\n",
            "Epoch 93/250\n",
            "584/584 [==============================] - 0s 257us/step - loss: 0.4276 - acc: 0.8476 - val_loss: 0.3983 - val_acc: 0.8425\n",
            "Epoch 94/250\n",
            "584/584 [==============================] - 0s 238us/step - loss: 0.3515 - acc: 0.8904 - val_loss: 0.3973 - val_acc: 0.8630\n",
            "Epoch 95/250\n",
            "584/584 [==============================] - 0s 254us/step - loss: 0.3718 - acc: 0.8596 - val_loss: 0.3895 - val_acc: 0.8562\n",
            "Epoch 96/250\n",
            "584/584 [==============================] - 0s 237us/step - loss: 0.3853 - acc: 0.8545 - val_loss: 0.3864 - val_acc: 0.8562\n",
            "Epoch 97/250\n",
            "584/584 [==============================] - 0s 255us/step - loss: 0.3645 - acc: 0.8818 - val_loss: 0.3894 - val_acc: 0.8562\n",
            "Epoch 98/250\n",
            "584/584 [==============================] - 0s 245us/step - loss: 0.3825 - acc: 0.8510 - val_loss: 0.3898 - val_acc: 0.8630\n",
            "Epoch 99/250\n",
            "584/584 [==============================] - 0s 245us/step - loss: 0.3721 - acc: 0.8579 - val_loss: 0.3886 - val_acc: 0.8493\n",
            "Epoch 100/250\n",
            "584/584 [==============================] - 0s 242us/step - loss: 0.3572 - acc: 0.8750 - val_loss: 0.3839 - val_acc: 0.8562\n",
            "Epoch 101/250\n",
            "584/584 [==============================] - 0s 237us/step - loss: 0.4059 - acc: 0.8442 - val_loss: 0.3777 - val_acc: 0.8699\n",
            "Epoch 102/250\n",
            "584/584 [==============================] - 0s 239us/step - loss: 0.3804 - acc: 0.8630 - val_loss: 0.3930 - val_acc: 0.8699\n",
            "Epoch 103/250\n",
            "584/584 [==============================] - 0s 260us/step - loss: 0.3488 - acc: 0.8716 - val_loss: 0.3948 - val_acc: 0.8425\n",
            "Epoch 104/250\n",
            "584/584 [==============================] - 0s 255us/step - loss: 0.3549 - acc: 0.8784 - val_loss: 0.3921 - val_acc: 0.8562\n",
            "Epoch 105/250\n",
            "584/584 [==============================] - 0s 237us/step - loss: 0.3708 - acc: 0.8596 - val_loss: 0.3940 - val_acc: 0.8562\n",
            "Epoch 106/250\n",
            "584/584 [==============================] - 0s 246us/step - loss: 0.3724 - acc: 0.8545 - val_loss: 0.3910 - val_acc: 0.8493\n",
            "Epoch 107/250\n",
            "584/584 [==============================] - 0s 260us/step - loss: 0.3439 - acc: 0.8853 - val_loss: 0.3821 - val_acc: 0.8630\n",
            "Epoch 108/250\n",
            "584/584 [==============================] - 0s 253us/step - loss: 0.3455 - acc: 0.8716 - val_loss: 0.3918 - val_acc: 0.8630\n",
            "Epoch 109/250\n",
            "584/584 [==============================] - 0s 242us/step - loss: 0.3901 - acc: 0.8784 - val_loss: 0.3847 - val_acc: 0.8562\n",
            "Epoch 110/250\n",
            "584/584 [==============================] - 0s 259us/step - loss: 0.4340 - acc: 0.8510 - val_loss: 0.3786 - val_acc: 0.8630\n",
            "Epoch 111/250\n",
            "584/584 [==============================] - 0s 244us/step - loss: 0.3565 - acc: 0.8767 - val_loss: 0.3731 - val_acc: 0.8630\n",
            "Epoch 112/250\n",
            "584/584 [==============================] - 0s 239us/step - loss: 0.3634 - acc: 0.8682 - val_loss: 0.3751 - val_acc: 0.8699\n",
            "Epoch 113/250\n",
            "584/584 [==============================] - 0s 247us/step - loss: 0.3667 - acc: 0.8647 - val_loss: 0.3729 - val_acc: 0.8562\n",
            "Epoch 114/250\n",
            "584/584 [==============================] - 0s 244us/step - loss: 0.3469 - acc: 0.8716 - val_loss: 0.3728 - val_acc: 0.8630\n",
            "Epoch 115/250\n",
            "584/584 [==============================] - 0s 254us/step - loss: 0.3721 - acc: 0.8664 - val_loss: 0.3691 - val_acc: 0.8630\n",
            "Epoch 116/250\n",
            "584/584 [==============================] - 0s 254us/step - loss: 0.3502 - acc: 0.8750 - val_loss: 0.3710 - val_acc: 0.8562\n",
            "Epoch 117/250\n",
            "584/584 [==============================] - 0s 269us/step - loss: 0.3559 - acc: 0.8699 - val_loss: 0.3696 - val_acc: 0.8562\n",
            "Epoch 118/250\n",
            "584/584 [==============================] - 0s 246us/step - loss: 0.3561 - acc: 0.8767 - val_loss: 0.3713 - val_acc: 0.8767\n",
            "Epoch 119/250\n",
            "584/584 [==============================] - 0s 249us/step - loss: 0.3662 - acc: 0.8699 - val_loss: 0.3697 - val_acc: 0.8767\n",
            "Epoch 120/250\n",
            "584/584 [==============================] - 0s 244us/step - loss: 0.2920 - acc: 0.9110 - val_loss: 0.3751 - val_acc: 0.8767\n",
            "Epoch 121/250\n",
            "584/584 [==============================] - 0s 247us/step - loss: 0.3216 - acc: 0.8699 - val_loss: 0.3661 - val_acc: 0.8699\n",
            "Epoch 122/250\n",
            "584/584 [==============================] - 0s 231us/step - loss: 0.3109 - acc: 0.8818 - val_loss: 0.3681 - val_acc: 0.8767\n",
            "Epoch 123/250\n",
            "584/584 [==============================] - 0s 272us/step - loss: 0.3543 - acc: 0.8836 - val_loss: 0.3775 - val_acc: 0.8699\n",
            "Epoch 124/250\n",
            "584/584 [==============================] - 0s 247us/step - loss: 0.2846 - acc: 0.9110 - val_loss: 0.3729 - val_acc: 0.8630\n",
            "Epoch 125/250\n",
            "584/584 [==============================] - 0s 240us/step - loss: 0.3362 - acc: 0.8938 - val_loss: 0.3683 - val_acc: 0.8630\n",
            "Epoch 126/250\n",
            "584/584 [==============================] - 0s 237us/step - loss: 0.3083 - acc: 0.8921 - val_loss: 0.3737 - val_acc: 0.8562\n",
            "Epoch 127/250\n",
            "584/584 [==============================] - 0s 258us/step - loss: 0.3245 - acc: 0.8767 - val_loss: 0.3776 - val_acc: 0.8630\n",
            "Epoch 128/250\n",
            "584/584 [==============================] - 0s 247us/step - loss: 0.3197 - acc: 0.8836 - val_loss: 0.3688 - val_acc: 0.8562\n",
            "Epoch 129/250\n",
            "584/584 [==============================] - 0s 249us/step - loss: 0.3385 - acc: 0.8870 - val_loss: 0.3750 - val_acc: 0.8562\n",
            "Epoch 130/250\n",
            "584/584 [==============================] - 0s 254us/step - loss: 0.2838 - acc: 0.9041 - val_loss: 0.3710 - val_acc: 0.8630\n",
            "Epoch 131/250\n",
            "584/584 [==============================] - 0s 250us/step - loss: 0.3457 - acc: 0.8545 - val_loss: 0.3591 - val_acc: 0.8836\n",
            "Epoch 132/250\n",
            "584/584 [==============================] - 0s 249us/step - loss: 0.3375 - acc: 0.8682 - val_loss: 0.3640 - val_acc: 0.8699\n",
            "Epoch 133/250\n",
            "584/584 [==============================] - 0s 237us/step - loss: 0.3339 - acc: 0.8853 - val_loss: 0.3660 - val_acc: 0.8767\n",
            "Epoch 134/250\n",
            "584/584 [==============================] - 0s 248us/step - loss: 0.2879 - acc: 0.9092 - val_loss: 0.3610 - val_acc: 0.8630\n",
            "Epoch 135/250\n",
            "584/584 [==============================] - 0s 240us/step - loss: 0.3199 - acc: 0.8784 - val_loss: 0.3583 - val_acc: 0.8836\n",
            "Epoch 136/250\n",
            "584/584 [==============================] - 0s 245us/step - loss: 0.2947 - acc: 0.8904 - val_loss: 0.3520 - val_acc: 0.8767\n",
            "Epoch 137/250\n",
            "584/584 [==============================] - 0s 266us/step - loss: 0.3302 - acc: 0.8784 - val_loss: 0.3520 - val_acc: 0.8630\n",
            "Epoch 138/250\n",
            "584/584 [==============================] - 0s 237us/step - loss: 0.3286 - acc: 0.8801 - val_loss: 0.3534 - val_acc: 0.8699\n",
            "Epoch 139/250\n",
            "584/584 [==============================] - 0s 237us/step - loss: 0.3008 - acc: 0.8921 - val_loss: 0.3595 - val_acc: 0.8767\n",
            "Epoch 140/250\n",
            "584/584 [==============================] - 0s 248us/step - loss: 0.3061 - acc: 0.8990 - val_loss: 0.3639 - val_acc: 0.8767\n",
            "Epoch 141/250\n",
            "584/584 [==============================] - 0s 242us/step - loss: 0.3194 - acc: 0.8955 - val_loss: 0.3571 - val_acc: 0.8767\n",
            "Epoch 142/250\n",
            "584/584 [==============================] - 0s 250us/step - loss: 0.3372 - acc: 0.8836 - val_loss: 0.3633 - val_acc: 0.8630\n",
            "Epoch 143/250\n",
            "584/584 [==============================] - 0s 249us/step - loss: 0.3228 - acc: 0.8853 - val_loss: 0.3547 - val_acc: 0.8836\n",
            "Epoch 144/250\n",
            "584/584 [==============================] - 0s 264us/step - loss: 0.3208 - acc: 0.8887 - val_loss: 0.3519 - val_acc: 0.8836\n",
            "Epoch 145/250\n",
            "584/584 [==============================] - 0s 253us/step - loss: 0.3107 - acc: 0.8973 - val_loss: 0.3633 - val_acc: 0.8836\n",
            "Epoch 146/250\n",
            "584/584 [==============================] - 0s 240us/step - loss: 0.2720 - acc: 0.8990 - val_loss: 0.3660 - val_acc: 0.8836\n",
            "Epoch 147/250\n",
            "584/584 [==============================] - 0s 241us/step - loss: 0.2722 - acc: 0.9075 - val_loss: 0.3719 - val_acc: 0.8630\n",
            "Epoch 148/250\n",
            "584/584 [==============================] - 0s 242us/step - loss: 0.3149 - acc: 0.8818 - val_loss: 0.3718 - val_acc: 0.8630\n",
            "Epoch 149/250\n",
            "584/584 [==============================] - 0s 240us/step - loss: 0.2642 - acc: 0.9195 - val_loss: 0.3551 - val_acc: 0.8904\n",
            "Epoch 150/250\n",
            "584/584 [==============================] - 0s 249us/step - loss: 0.2842 - acc: 0.8973 - val_loss: 0.3551 - val_acc: 0.8767\n",
            "Epoch 151/250\n",
            "584/584 [==============================] - 0s 265us/step - loss: 0.2614 - acc: 0.8938 - val_loss: 0.3703 - val_acc: 0.8630\n",
            "Epoch 152/250\n",
            "584/584 [==============================] - 0s 246us/step - loss: 0.2517 - acc: 0.9024 - val_loss: 0.3704 - val_acc: 0.8767\n",
            "Epoch 153/250\n",
            "584/584 [==============================] - 0s 244us/step - loss: 0.2908 - acc: 0.8887 - val_loss: 0.3594 - val_acc: 0.8836\n",
            "Epoch 154/250\n",
            "584/584 [==============================] - 0s 246us/step - loss: 0.2770 - acc: 0.8955 - val_loss: 0.3524 - val_acc: 0.8836\n",
            "Epoch 155/250\n",
            "584/584 [==============================] - 0s 240us/step - loss: 0.2784 - acc: 0.9110 - val_loss: 0.3576 - val_acc: 0.8836\n",
            "Epoch 156/250\n",
            "584/584 [==============================] - 0s 246us/step - loss: 0.3006 - acc: 0.8955 - val_loss: 0.3631 - val_acc: 0.8699\n",
            "Epoch 157/250\n",
            "584/584 [==============================] - 0s 246us/step - loss: 0.2933 - acc: 0.8887 - val_loss: 0.3593 - val_acc: 0.8767\n",
            "Epoch 158/250\n",
            "584/584 [==============================] - 0s 257us/step - loss: 0.2760 - acc: 0.8955 - val_loss: 0.3613 - val_acc: 0.8904\n",
            "Epoch 159/250\n",
            "584/584 [==============================] - 0s 251us/step - loss: 0.2738 - acc: 0.9058 - val_loss: 0.3573 - val_acc: 0.8767\n",
            "Epoch 160/250\n",
            "584/584 [==============================] - 0s 242us/step - loss: 0.3100 - acc: 0.8938 - val_loss: 0.3654 - val_acc: 0.8699\n",
            "Epoch 161/250\n",
            "584/584 [==============================] - 0s 243us/step - loss: 0.2999 - acc: 0.8955 - val_loss: 0.3625 - val_acc: 0.8767\n",
            "Epoch 162/250\n",
            "584/584 [==============================] - 0s 245us/step - loss: 0.2588 - acc: 0.9024 - val_loss: 0.3559 - val_acc: 0.8699\n",
            "Epoch 163/250\n",
            "584/584 [==============================] - 0s 249us/step - loss: 0.2717 - acc: 0.9024 - val_loss: 0.3575 - val_acc: 0.8630\n",
            "Epoch 164/250\n",
            "584/584 [==============================] - 0s 252us/step - loss: 0.2233 - acc: 0.9229 - val_loss: 0.3588 - val_acc: 0.8562\n",
            "Epoch 165/250\n",
            "584/584 [==============================] - 0s 263us/step - loss: 0.3020 - acc: 0.8853 - val_loss: 0.3619 - val_acc: 0.8699\n",
            "Epoch 166/250\n",
            "584/584 [==============================] - 0s 245us/step - loss: 0.3094 - acc: 0.8904 - val_loss: 0.3623 - val_acc: 0.8699\n",
            "Epoch 167/250\n",
            "584/584 [==============================] - 0s 240us/step - loss: 0.2752 - acc: 0.8955 - val_loss: 0.3458 - val_acc: 0.8767\n",
            "Epoch 168/250\n",
            "584/584 [==============================] - 0s 247us/step - loss: 0.2478 - acc: 0.9178 - val_loss: 0.3431 - val_acc: 0.8836\n",
            "Epoch 169/250\n",
            "584/584 [==============================] - 0s 245us/step - loss: 0.2534 - acc: 0.9247 - val_loss: 0.3417 - val_acc: 0.8767\n",
            "Epoch 170/250\n",
            "584/584 [==============================] - 0s 238us/step - loss: 0.2612 - acc: 0.9110 - val_loss: 0.3432 - val_acc: 0.8904\n",
            "Epoch 171/250\n",
            "584/584 [==============================] - 0s 256us/step - loss: 0.2580 - acc: 0.9024 - val_loss: 0.3394 - val_acc: 0.8836\n",
            "Epoch 172/250\n",
            "584/584 [==============================] - 0s 245us/step - loss: 0.2373 - acc: 0.9195 - val_loss: 0.3432 - val_acc: 0.8904\n",
            "Epoch 173/250\n",
            "584/584 [==============================] - 0s 247us/step - loss: 0.2563 - acc: 0.9110 - val_loss: 0.3317 - val_acc: 0.9041\n",
            "Epoch 174/250\n",
            "584/584 [==============================] - 0s 240us/step - loss: 0.2862 - acc: 0.8973 - val_loss: 0.3326 - val_acc: 0.8973\n",
            "Epoch 175/250\n",
            "584/584 [==============================] - 0s 239us/step - loss: 0.2480 - acc: 0.9092 - val_loss: 0.3446 - val_acc: 0.8767\n",
            "Epoch 176/250\n",
            "584/584 [==============================] - 0s 255us/step - loss: 0.2459 - acc: 0.9041 - val_loss: 0.3473 - val_acc: 0.8904\n",
            "Epoch 177/250\n",
            "584/584 [==============================] - 0s 253us/step - loss: 0.2442 - acc: 0.9024 - val_loss: 0.3435 - val_acc: 0.8904\n",
            "Epoch 178/250\n",
            "584/584 [==============================] - 0s 262us/step - loss: 0.3113 - acc: 0.8801 - val_loss: 0.3457 - val_acc: 0.8973\n",
            "Epoch 179/250\n",
            "584/584 [==============================] - 0s 253us/step - loss: 0.2941 - acc: 0.8973 - val_loss: 0.3389 - val_acc: 0.8904\n",
            "Epoch 180/250\n",
            "584/584 [==============================] - 0s 243us/step - loss: 0.2393 - acc: 0.9161 - val_loss: 0.3415 - val_acc: 0.8973\n",
            "Epoch 181/250\n",
            "584/584 [==============================] - 0s 235us/step - loss: 0.2358 - acc: 0.9075 - val_loss: 0.3598 - val_acc: 0.8973\n",
            "Epoch 182/250\n",
            "584/584 [==============================] - 0s 242us/step - loss: 0.2786 - acc: 0.9075 - val_loss: 0.3683 - val_acc: 0.8904\n",
            "Epoch 183/250\n",
            "584/584 [==============================] - 0s 240us/step - loss: 0.2947 - acc: 0.8887 - val_loss: 0.3512 - val_acc: 0.8973\n",
            "Epoch 184/250\n",
            "584/584 [==============================] - 0s 239us/step - loss: 0.2789 - acc: 0.9110 - val_loss: 0.3415 - val_acc: 0.8904\n",
            "Epoch 185/250\n",
            "584/584 [==============================] - 0s 266us/step - loss: 0.2675 - acc: 0.9024 - val_loss: 0.3447 - val_acc: 0.9041\n",
            "Epoch 186/250\n",
            "584/584 [==============================] - 0s 249us/step - loss: 0.2227 - acc: 0.9144 - val_loss: 0.3518 - val_acc: 0.8904\n",
            "Epoch 187/250\n",
            "584/584 [==============================] - 0s 243us/step - loss: 0.2675 - acc: 0.8973 - val_loss: 0.3568 - val_acc: 0.8836\n",
            "Epoch 188/250\n",
            "584/584 [==============================] - 0s 239us/step - loss: 0.2147 - acc: 0.9247 - val_loss: 0.3652 - val_acc: 0.8836\n",
            "Epoch 189/250\n",
            "584/584 [==============================] - 0s 240us/step - loss: 0.2318 - acc: 0.9161 - val_loss: 0.3747 - val_acc: 0.8973\n",
            "Epoch 190/250\n",
            "584/584 [==============================] - 0s 245us/step - loss: 0.2288 - acc: 0.9127 - val_loss: 0.3700 - val_acc: 0.9041\n",
            "Epoch 191/250\n",
            "584/584 [==============================] - 0s 246us/step - loss: 0.2171 - acc: 0.9247 - val_loss: 0.3678 - val_acc: 0.8904\n",
            "Epoch 192/250\n",
            "584/584 [==============================] - 0s 264us/step - loss: 0.2291 - acc: 0.9195 - val_loss: 0.3686 - val_acc: 0.8904\n",
            "Epoch 193/250\n",
            "584/584 [==============================] - 0s 244us/step - loss: 0.2938 - acc: 0.9075 - val_loss: 0.3727 - val_acc: 0.8836\n",
            "Epoch 194/250\n",
            "584/584 [==============================] - 0s 242us/step - loss: 0.2485 - acc: 0.9247 - val_loss: 0.3713 - val_acc: 0.8904\n",
            "Epoch 195/250\n",
            "584/584 [==============================] - 0s 249us/step - loss: 0.2674 - acc: 0.9127 - val_loss: 0.3713 - val_acc: 0.8904\n",
            "Epoch 196/250\n",
            "584/584 [==============================] - 0s 237us/step - loss: 0.2768 - acc: 0.8955 - val_loss: 0.3676 - val_acc: 0.8973\n",
            "Epoch 197/250\n",
            "584/584 [==============================] - 0s 243us/step - loss: 0.2440 - acc: 0.9332 - val_loss: 0.3537 - val_acc: 0.9041\n",
            "Epoch 198/250\n",
            "584/584 [==============================] - 0s 238us/step - loss: 0.2553 - acc: 0.9092 - val_loss: 0.3584 - val_acc: 0.9041\n",
            "Epoch 199/250\n",
            "584/584 [==============================] - 0s 253us/step - loss: 0.2306 - acc: 0.9247 - val_loss: 0.3623 - val_acc: 0.8973\n",
            "Epoch 200/250\n",
            "584/584 [==============================] - 0s 258us/step - loss: 0.2411 - acc: 0.9178 - val_loss: 0.3723 - val_acc: 0.8973\n",
            "Epoch 201/250\n",
            "584/584 [==============================] - 0s 248us/step - loss: 0.2263 - acc: 0.9281 - val_loss: 0.3723 - val_acc: 0.8904\n",
            "Epoch 202/250\n",
            "584/584 [==============================] - 0s 259us/step - loss: 0.2134 - acc: 0.9281 - val_loss: 0.3697 - val_acc: 0.8973\n",
            "Epoch 203/250\n",
            "584/584 [==============================] - 0s 246us/step - loss: 0.2300 - acc: 0.9281 - val_loss: 0.3827 - val_acc: 0.8904\n",
            "Epoch 204/250\n",
            "584/584 [==============================] - 0s 244us/step - loss: 0.2110 - acc: 0.9264 - val_loss: 0.3934 - val_acc: 0.8836\n",
            "Epoch 205/250\n",
            "584/584 [==============================] - 0s 256us/step - loss: 0.2391 - acc: 0.9092 - val_loss: 0.3874 - val_acc: 0.8904\n",
            "Epoch 206/250\n",
            "584/584 [==============================] - 0s 276us/step - loss: 0.2201 - acc: 0.9264 - val_loss: 0.3829 - val_acc: 0.8904\n",
            "Epoch 207/250\n",
            "584/584 [==============================] - 0s 253us/step - loss: 0.2134 - acc: 0.9247 - val_loss: 0.3909 - val_acc: 0.8836\n",
            "Epoch 208/250\n",
            "584/584 [==============================] - 0s 250us/step - loss: 0.2464 - acc: 0.9110 - val_loss: 0.3727 - val_acc: 0.8973\n",
            "Epoch 209/250\n",
            "584/584 [==============================] - 0s 240us/step - loss: 0.2334 - acc: 0.9144 - val_loss: 0.3585 - val_acc: 0.9041\n",
            "Epoch 210/250\n",
            "584/584 [==============================] - 0s 245us/step - loss: 0.2182 - acc: 0.9195 - val_loss: 0.3702 - val_acc: 0.8836\n",
            "Epoch 211/250\n",
            "584/584 [==============================] - 0s 239us/step - loss: 0.2339 - acc: 0.9144 - val_loss: 0.3746 - val_acc: 0.8904\n",
            "Epoch 212/250\n",
            "584/584 [==============================] - 0s 241us/step - loss: 0.2328 - acc: 0.9110 - val_loss: 0.3649 - val_acc: 0.9110\n",
            "Epoch 213/250\n",
            "584/584 [==============================] - 0s 267us/step - loss: 0.2230 - acc: 0.9212 - val_loss: 0.3698 - val_acc: 0.9041\n",
            "Epoch 214/250\n",
            "584/584 [==============================] - 0s 242us/step - loss: 0.2384 - acc: 0.9264 - val_loss: 0.3748 - val_acc: 0.8904\n",
            "Epoch 215/250\n",
            "584/584 [==============================] - 0s 249us/step - loss: 0.2275 - acc: 0.9264 - val_loss: 0.3701 - val_acc: 0.8836\n",
            "Epoch 216/250\n",
            "584/584 [==============================] - 0s 253us/step - loss: 0.2306 - acc: 0.9041 - val_loss: 0.3794 - val_acc: 0.8836\n",
            "Epoch 217/250\n",
            "584/584 [==============================] - 0s 258us/step - loss: 0.2438 - acc: 0.9110 - val_loss: 0.3688 - val_acc: 0.8904\n",
            "Epoch 218/250\n",
            "584/584 [==============================] - 0s 253us/step - loss: 0.1891 - acc: 0.9315 - val_loss: 0.3604 - val_acc: 0.8973\n",
            "Epoch 219/250\n",
            "584/584 [==============================] - 0s 242us/step - loss: 0.2191 - acc: 0.9092 - val_loss: 0.3601 - val_acc: 0.8973\n",
            "Epoch 220/250\n",
            "584/584 [==============================] - 0s 270us/step - loss: 0.2487 - acc: 0.8973 - val_loss: 0.3623 - val_acc: 0.8973\n",
            "Epoch 221/250\n",
            "584/584 [==============================] - 0s 251us/step - loss: 0.2350 - acc: 0.9178 - val_loss: 0.3668 - val_acc: 0.8973\n",
            "Epoch 222/250\n",
            "584/584 [==============================] - 0s 254us/step - loss: 0.2147 - acc: 0.9264 - val_loss: 0.3584 - val_acc: 0.9041\n",
            "Epoch 223/250\n",
            "584/584 [==============================] - 0s 251us/step - loss: 0.2124 - acc: 0.9264 - val_loss: 0.3473 - val_acc: 0.9041\n",
            "Epoch 224/250\n",
            "584/584 [==============================] - 0s 247us/step - loss: 0.2440 - acc: 0.9092 - val_loss: 0.3467 - val_acc: 0.9041\n",
            "Epoch 225/250\n",
            "584/584 [==============================] - 0s 247us/step - loss: 0.2162 - acc: 0.9247 - val_loss: 0.3530 - val_acc: 0.9041\n",
            "Epoch 226/250\n",
            "584/584 [==============================] - 0s 254us/step - loss: 0.2387 - acc: 0.9212 - val_loss: 0.3679 - val_acc: 0.8973\n",
            "Epoch 227/250\n",
            "584/584 [==============================] - 0s 269us/step - loss: 0.2181 - acc: 0.9247 - val_loss: 0.3753 - val_acc: 0.8904\n",
            "Epoch 228/250\n",
            "584/584 [==============================] - 0s 250us/step - loss: 0.1987 - acc: 0.9384 - val_loss: 0.3672 - val_acc: 0.8973\n",
            "Epoch 229/250\n",
            "584/584 [==============================] - 0s 243us/step - loss: 0.2125 - acc: 0.9332 - val_loss: 0.3614 - val_acc: 0.8904\n",
            "Epoch 230/250\n",
            "584/584 [==============================] - 0s 257us/step - loss: 0.2276 - acc: 0.9247 - val_loss: 0.3661 - val_acc: 0.8904\n",
            "Epoch 231/250\n",
            "584/584 [==============================] - 0s 246us/step - loss: 0.2326 - acc: 0.9247 - val_loss: 0.3688 - val_acc: 0.8836\n",
            "Epoch 232/250\n",
            "584/584 [==============================] - 0s 236us/step - loss: 0.2066 - acc: 0.9212 - val_loss: 0.3720 - val_acc: 0.8904\n",
            "Epoch 233/250\n",
            "584/584 [==============================] - 0s 240us/step - loss: 0.2203 - acc: 0.9178 - val_loss: 0.3701 - val_acc: 0.9110\n",
            "Epoch 234/250\n",
            "584/584 [==============================] - 0s 268us/step - loss: 0.2324 - acc: 0.9127 - val_loss: 0.3699 - val_acc: 0.9041\n",
            "Epoch 235/250\n",
            "584/584 [==============================] - 0s 248us/step - loss: 0.2399 - acc: 0.9161 - val_loss: 0.3741 - val_acc: 0.8904\n",
            "Epoch 236/250\n",
            "584/584 [==============================] - 0s 260us/step - loss: 0.2272 - acc: 0.9127 - val_loss: 0.3771 - val_acc: 0.8904\n",
            "Epoch 237/250\n",
            "584/584 [==============================] - 0s 251us/step - loss: 0.2088 - acc: 0.9298 - val_loss: 0.3682 - val_acc: 0.8973\n",
            "Epoch 238/250\n",
            "584/584 [==============================] - 0s 246us/step - loss: 0.2339 - acc: 0.9110 - val_loss: 0.3591 - val_acc: 0.8836\n",
            "Epoch 239/250\n",
            "584/584 [==============================] - 0s 245us/step - loss: 0.2188 - acc: 0.9247 - val_loss: 0.3581 - val_acc: 0.8904\n",
            "Epoch 240/250\n",
            "584/584 [==============================] - 0s 248us/step - loss: 0.2483 - acc: 0.9127 - val_loss: 0.3553 - val_acc: 0.8973\n",
            "Epoch 241/250\n",
            "584/584 [==============================] - 0s 255us/step - loss: 0.1982 - acc: 0.9264 - val_loss: 0.3677 - val_acc: 0.8904\n",
            "Epoch 242/250\n",
            "584/584 [==============================] - 0s 238us/step - loss: 0.2022 - acc: 0.9384 - val_loss: 0.3742 - val_acc: 0.8973\n",
            "Epoch 243/250\n",
            "584/584 [==============================] - 0s 232us/step - loss: 0.2186 - acc: 0.9229 - val_loss: 0.3880 - val_acc: 0.8904\n",
            "Epoch 244/250\n",
            "584/584 [==============================] - 0s 253us/step - loss: 0.1951 - acc: 0.9384 - val_loss: 0.3923 - val_acc: 0.8836\n",
            "Epoch 245/250\n",
            "584/584 [==============================] - 0s 254us/step - loss: 0.2132 - acc: 0.9092 - val_loss: 0.3814 - val_acc: 0.8973\n",
            "Epoch 246/250\n",
            "584/584 [==============================] - 0s 242us/step - loss: 0.2310 - acc: 0.9110 - val_loss: 0.3812 - val_acc: 0.8836\n",
            "Epoch 247/250\n",
            "584/584 [==============================] - 0s 246us/step - loss: 0.2058 - acc: 0.9401 - val_loss: 0.3861 - val_acc: 0.9041\n",
            "Epoch 248/250\n",
            "584/584 [==============================] - 0s 269us/step - loss: 0.2179 - acc: 0.9229 - val_loss: 0.3789 - val_acc: 0.9041\n",
            "Epoch 249/250\n",
            "584/584 [==============================] - 0s 250us/step - loss: 0.1950 - acc: 0.9264 - val_loss: 0.3807 - val_acc: 0.9041\n",
            "Epoch 250/250\n",
            "584/584 [==============================] - 0s 244us/step - loss: 0.1846 - acc: 0.9366 - val_loss: 0.3894 - val_acc: 0.8973\n"
          ],
          "name": "stdout"
        }
      ]
    },
    {
      "metadata": {
        "id": "vbYUJIi3H-Xg",
        "colab_type": "code",
        "colab": {}
      },
      "cell_type": "code",
      "source": [
        "# Let's plot our trainin process (we actually can look what happened as we were training)\n",
        "import matplotlib.pyplot as plt"
      ],
      "execution_count": 0,
      "outputs": []
    },
    {
      "metadata": {
        "id": "SsKxkAj1HEh7",
        "colab_type": "code",
        "colab": {
          "base_uri": "https://localhost:8080/",
          "height": 735
        },
        "outputId": "30a8ff89-2af6-4696-a301-4d3b35f67862"
      },
      "cell_type": "code",
      "source": [
        "# summarize history for accuracy\n",
        "plt.plot(history.history['acc'])\n",
        "plt.plot(history.history['val_acc'])\n",
        "plt.title('model accuracy')\n",
        "plt.ylabel('accuracy')\n",
        "plt.xlabel('epoch')\n",
        "plt.legend(['train', 'test'], loc='upper left')\n",
        "plt.show()\n",
        "# summarize history for loss\n",
        "plt.plot(history.history['loss'])\n",
        "plt.plot(history.history['val_loss'])\n",
        "plt.title('model loss')\n",
        "plt.ylabel('loss')\n",
        "plt.xlabel('epoch')\n",
        "plt.legend(['train', 'test'], loc='upper left')\n",
        "plt.show()"
      ],
      "execution_count": 27,
      "outputs": [
        {
          "output_type": "display_data",
          "data": {
            "image/png": "[encoded data removed]",
            "text/plain": [
              "<matplotlib.figure.Figure at 0x7fa7889e1668>"
            ]
          },
          "metadata": {
            "tags": []
          }
        },
        {
          "output_type": "display_data",
          "data": {
            "image/png": "[encoded data removed]",
            "text/plain": [
              "<matplotlib.figure.Figure at 0x7fa78896da58>"
            ]
          },
          "metadata": {
            "tags": []
          }
        }
      ]
    },
    {
      "metadata": {
        "id": "-XKPooq3IA9_",
        "colab_type": "code",
        "colab": {}
      },
      "cell_type": "code",
      "source": [
        "# Load the best model (lowest loss)\n",
        "\n",
        "model = load_model('model.h5')"
      ],
      "execution_count": 0,
      "outputs": []
    },
    {
      "metadata": {
        "id": "1fNg3tAuK3pw",
        "colab_type": "code",
        "colab": {
          "base_uri": "https://localhost:8080/",
          "height": 51
        },
        "outputId": "48899a23-2c48-4e36-86ff-10f3bb107e39"
      },
      "cell_type": "code",
      "source": [
        "# How does it perform?\n",
        "\n",
        "model.evaluate(X_test,y_test)"
      ],
      "execution_count": 29,
      "outputs": [
        {
          "output_type": "stream",
          "text": [
            "146/146 [==============================] - 0s 534us/step\n"
          ],
          "name": "stdout"
        },
        {
          "output_type": "execute_result",
          "data": {
            "text/plain": [
              "[0.3316655685640361, 0.9041095865915899]"
            ]
          },
          "metadata": {
            "tags": []
          },
          "execution_count": 29
        }
      ]
    },
    {
      "metadata": {
        "id": "biuDrNIMK_b9",
        "colab_type": "code",
        "colab": {
          "base_uri": "https://localhost:8080/",
          "height": 221
        },
        "outputId": "906c8d2f-0ed9-493c-fa2a-4d534507141d"
      },
      "cell_type": "code",
      "source": [
        "y_pred = model.predict(X_test)\n",
        "\n",
        "\n",
        "\n",
        "y_pred = np.argmax(y_pred, axis=1)\n",
        "y_test = np.argmax(y_test, axis=1)\n",
        "\n",
        "report = classification_report(y_test, y_pred)\n",
        "print(report)"
      ],
      "execution_count": 30,
      "outputs": [
        {
          "output_type": "stream",
          "text": [
            "             precision    recall  f1-score   support\n",
            "\n",
            "          0       0.71      0.71      0.71         7\n",
            "          1       0.93      0.93      0.93        41\n",
            "          2       0.94      0.96      0.95        49\n",
            "          3       0.82      0.90      0.86        20\n",
            "          4       1.00      0.67      0.80         6\n",
            "          5       0.89      1.00      0.94        17\n",
            "          6       1.00      0.50      0.67         6\n",
            "\n",
            "avg / total       0.91      0.90      0.90       146\n",
            "\n"
          ],
          "name": "stdout"
        }
      ]
    },
    {
      "metadata": {
        "id": "VoInXugUBGLO",
        "colab_type": "code",
        "colab": {
          "base_uri": "https://localhost:8080/",
          "height": 385
        },
        "outputId": "363b08fb-e3a8-40c9-f6ce-3fba45c3044e"
      },
      "cell_type": "code",
      "source": [
        "# columns = predicted, rows = real\n",
        "\n",
        "# y_test.A.ravel() is weird: we need to transform it from a matrix to an array and then flatten it back to a 1D vector.\n",
        "pd.crosstab(encoder.inverse_transform(y_test.A.ravel()),encoder.inverse_transform(y_pred))"
      ],
      "execution_count": 31,
      "outputs": [
        {
          "output_type": "stream",
          "text": [
            "/usr/local/lib/python3.6/dist-packages/sklearn/preprocessing/label.py:151: DeprecationWarning: The truth value of an empty array is ambiguous. Returning False, but in future this will result in an error. Use `array.size > 0` to check that an array is not empty.\n",
            "  if diff:\n",
            "/usr/local/lib/python3.6/dist-packages/sklearn/preprocessing/label.py:151: DeprecationWarning: The truth value of an empty array is ambiguous. Returning False, but in future this will result in an error. Use `array.size > 0` to check that an array is not empty.\n",
            "  if diff:\n"
          ],
          "name": "stderr"
        },
        {
          "output_type": "execute_result",
          "data": {
            "text/html": [
              "<div>\n",
              "<style scoped>\n",
              "    .dataframe tbody tr th:only-of-type {\n",
              "        vertical-align: middle;\n",
              "    }\n",
              "\n",
              "    .dataframe tbody tr th {\n",
              "        vertical-align: top;\n",
              "    }\n",
              "\n",
              "    .dataframe thead th {\n",
              "        text-align: right;\n",
              "    }\n",
              "</style>\n",
              "<table border=\"1\" class=\"dataframe\">\n",
              "  <thead>\n",
              "    <tr style=\"text-align: right;\">\n",
              "      <th>col_0</th>\n",
              "      <th>Africa</th>\n",
              "      <th>Asia</th>\n",
              "      <th>Europe</th>\n",
              "      <th>Latin America</th>\n",
              "      <th>Middle East</th>\n",
              "      <th>North America</th>\n",
              "      <th>Oceania</th>\n",
              "    </tr>\n",
              "    <tr>\n",
              "      <th>row_0</th>\n",
              "      <th></th>\n",
              "      <th></th>\n",
              "      <th></th>\n",
              "      <th></th>\n",
              "      <th></th>\n",
              "      <th></th>\n",
              "      <th></th>\n",
              "    </tr>\n",
              "  </thead>\n",
              "  <tbody>\n",
              "    <tr>\n",
              "      <th>Africa</th>\n",
              "      <td>5</td>\n",
              "      <td>2</td>\n",
              "      <td>0</td>\n",
              "      <td>0</td>\n",
              "      <td>0</td>\n",
              "      <td>0</td>\n",
              "      <td>0</td>\n",
              "    </tr>\n",
              "    <tr>\n",
              "      <th>Asia</th>\n",
              "      <td>0</td>\n",
              "      <td>38</td>\n",
              "      <td>1</td>\n",
              "      <td>2</td>\n",
              "      <td>0</td>\n",
              "      <td>0</td>\n",
              "      <td>0</td>\n",
              "    </tr>\n",
              "    <tr>\n",
              "      <th>Europe</th>\n",
              "      <td>0</td>\n",
              "      <td>0</td>\n",
              "      <td>47</td>\n",
              "      <td>1</td>\n",
              "      <td>0</td>\n",
              "      <td>1</td>\n",
              "      <td>0</td>\n",
              "    </tr>\n",
              "    <tr>\n",
              "      <th>Latin America</th>\n",
              "      <td>1</td>\n",
              "      <td>1</td>\n",
              "      <td>0</td>\n",
              "      <td>18</td>\n",
              "      <td>0</td>\n",
              "      <td>0</td>\n",
              "      <td>0</td>\n",
              "    </tr>\n",
              "    <tr>\n",
              "      <th>Middle East</th>\n",
              "      <td>1</td>\n",
              "      <td>0</td>\n",
              "      <td>0</td>\n",
              "      <td>1</td>\n",
              "      <td>4</td>\n",
              "      <td>0</td>\n",
              "      <td>0</td>\n",
              "    </tr>\n",
              "    <tr>\n",
              "      <th>North America</th>\n",
              "      <td>0</td>\n",
              "      <td>0</td>\n",
              "      <td>0</td>\n",
              "      <td>0</td>\n",
              "      <td>0</td>\n",
              "      <td>17</td>\n",
              "      <td>0</td>\n",
              "    </tr>\n",
              "    <tr>\n",
              "      <th>Oceania</th>\n",
              "      <td>0</td>\n",
              "      <td>0</td>\n",
              "      <td>2</td>\n",
              "      <td>0</td>\n",
              "      <td>0</td>\n",
              "      <td>1</td>\n",
              "      <td>3</td>\n",
              "    </tr>\n",
              "  </tbody>\n",
              "</table>\n",
              "</div>"
            ],
            "text/plain": [
              "col_0          Africa  Asia  Europe  Latin America  Middle East  \\\n",
              "row_0                                                             \n",
              "Africa              5     2       0              0            0   \n",
              "Asia                0    38       1              2            0   \n",
              "Europe              0     0      47              1            0   \n",
              "Latin America       1     1       0             18            0   \n",
              "Middle East         1     0       0              1            4   \n",
              "North America       0     0       0              0            0   \n",
              "Oceania             0     0       2              0            0   \n",
              "\n",
              "col_0          North America  Oceania  \n",
              "row_0                                  \n",
              "Africa                     0        0  \n",
              "Asia                       0        0  \n",
              "Europe                     1        0  \n",
              "Latin America              0        0  \n",
              "Middle East                0        0  \n",
              "North America             17        0  \n",
              "Oceania                    1        3  "
            ]
          },
          "metadata": {
            "tags": []
          },
          "execution_count": 31
        }
      ]
    },
    {
      "metadata": {
        "id": "BxOyXYWD_7NB",
        "colab_type": "text"
      },
      "cell_type": "markdown",
      "source": [
        "We clearly outperform the Logistic Regression and could probably get even better results with more optimization...at the same time we cannot beat XGBoost. But hey.\n",
        "\n",
        "* Actually in my final run it's: 0.9041095890410958 for XGBoost vs 0.9041095865915899 for the neural net :-O\n",
        "\n",
        "![alt text](https://media.giphy.com/media/SfYTJuxdAbsVW/giphy.gif)"
      ]
    }
  ]
}