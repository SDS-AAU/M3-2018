{
  "nbformat": 4,
  "nbformat_minor": 0,
  "metadata": {
    "colab": {
      "name": "Toxic_LSTM_SDS.ipynb",
      "version": "0.3.2",
      "provenance": [],
      "collapsed_sections": [],
      "include_colab_link": true
    },
    "kernelspec": {
      "name": "python3",
      "display_name": "Python 3"
    },
    "accelerator": "GPU"
  },
  "cells": [
    {
      "cell_type": "markdown",
      "metadata": {
        "id": "view-in-github",
        "colab_type": "text"
      },
      "source": [
        "<a href=\"https://colab.research.google.com/github/SDS-AAU/M3-2018/blob/master/notebooks/Hatespeech_LSTM_SDS.ipynb\" target=\"_parent\"><img src=\"https://colab.research.google.com/assets/colab-badge.svg\" alt=\"Open In Colab\"/></a>"
      ]
    },
    {
      "metadata": {
        "id": "ZZho1MY9Absn",
        "colab_type": "text"
      },
      "cell_type": "markdown",
      "source": [
        "# Building a BiLSTM classifier\n",
        "## With self-trained embeddings\n",
        "\n",
        "In this notebook we are going to use our self-trained fastText embeddings to train a reccurent classifier model for the hatespeech problem from the M2 assignment.\n",
        "\n",
        "![alt text](http://www.inf.ed.ac.uk/teaching/courses/tnlp/robot-reading.jpg)\n",
        "\n",
        "\n",
        "\n",
        "*   We will first download and open the pretrained model\n",
        "*   We will map our text inputs to their respective indices\n",
        "*   We will construct a recurrent neural net architecture with an embedding layer\n",
        "*   Finally, we'll frain the model (data in memory, no streaming needed, since it's small data)\n",
        "*   Evaluate our results\n",
        "\n",
        "\n",
        "\n"
      ]
    },
    {
      "metadata": {
        "id": "MUA4EtwiX3BY",
        "colab_type": "code",
        "colab": {}
      },
      "cell_type": "code",
      "source": [
        "# Install libraries that may not be present\n",
        "\n",
        "%%capture \n",
        "\n",
        "!pip install gensim "
      ],
      "execution_count": 0,
      "outputs": []
    },
    {
      "metadata": {
        "id": "Pjp_qXlVysLy",
        "colab_type": "code",
        "colab": {}
      },
      "cell_type": "code",
      "source": [
        "# Import the usual suspects\n",
        "\n",
        "import pandas as pd\n",
        "import numpy as np\n",
        "\n",
        "# Surpress scientific notation\n",
        "pd.set_option('display.float_format', lambda x: '%.3f' % x)\n",
        "\n",
        "\n",
        "# Import plotting & nice style\n",
        "import matplotlib.pyplot as plt\n",
        "plt.style.use(\"ggplot\")"
      ],
      "execution_count": 0,
      "outputs": []
    },
    {
      "metadata": {
        "id": "3f-waV7ka8dg",
        "colab_type": "code",
        "colab": {}
      },
      "cell_type": "code",
      "source": [
        "# We'll import gensim for handling the fasttext model\n",
        "from gensim.models import FastText"
      ],
      "execution_count": 0,
      "outputs": []
    },
    {
      "metadata": {
        "id": "VWoF0NGWc_fM",
        "colab_type": "code",
        "colab": {
          "base_uri": "https://localhost:8080/",
          "height": 204
        },
        "outputId": "a9f0a064-693f-499f-b020-d6908e39a250"
      },
      "cell_type": "code",
      "source": [
        "# We downlaod the model. And yes, it is a 776MB file!\n",
        "\n",
        "!wget http://sds-datacrunch.aau.dk/public/model_toxic2.zip"
      ],
      "execution_count": 5,
      "outputs": [
        {
          "output_type": "stream",
          "text": [
            "--2018-11-07 10:14:56--  http://sds-datacrunch.aau.dk/public/model_toxic2.zip\n",
            "Resolving sds-datacrunch.aau.dk (sds-datacrunch.aau.dk)... 192.38.56.127\n",
            "Connecting to sds-datacrunch.aau.dk (sds-datacrunch.aau.dk)|192.38.56.127|:80... connected.\n",
            "HTTP request sent, awaiting response... 200 OK\n",
            "Length: 814168249 (776M) [application/zip]\n",
            "Saving to: ‘model_toxic2.zip’\n",
            "\n",
            "model_toxic2.zip    100%[===================>] 776.45M  8.81MB/s    in 84s     \n",
            "\n",
            "2018-11-07 10:16:21 (9.23 MB/s) - ‘model_toxic2.zip’ saved [814168249/814168249]\n",
            "\n"
          ],
          "name": "stdout"
        }
      ]
    },
    {
      "metadata": {
        "id": "fJTmvCFYdB6S",
        "colab_type": "code",
        "colab": {
          "base_uri": "https://localhost:8080/",
          "height": 153
        },
        "outputId": "5fc9c561-ed01-4e58-eb90-6992c7a35809"
      },
      "cell_type": "code",
      "source": [
        "# Let's unzip\n",
        "\n",
        "!unzip model_toxic2.zip"
      ],
      "execution_count": 6,
      "outputs": [
        {
          "output_type": "stream",
          "text": [
            "Archive:  model_toxic2.zip\n",
            "  inflating: model_toxic.m           \n",
            "  inflating: model_toxic.m.wv.vectors.npy  \n",
            "  inflating: model_toxic.m.trainables.syn1neg.npy  \n",
            "  inflating: model_fasttext.m        \n",
            "  inflating: model_fasttext.m.wv.vectors.npy  \n",
            "  inflating: model_fasttext.m.wv.vectors_vocab.npy  \n",
            "  inflating: model_fasttext.m.wv.vectors_ngrams.npy  \n"
          ],
          "name": "stdout"
        }
      ]
    },
    {
      "metadata": {
        "id": "B1C1t0V2bvON",
        "colab_type": "code",
        "colab": {}
      },
      "cell_type": "code",
      "source": [
        "# Loading the model\n",
        "\n",
        "model_fasttext = FastText.load('model_toxic.m')"
      ],
      "execution_count": 0,
      "outputs": []
    },
    {
      "metadata": {
        "id": "BquFFnKeGRY_",
        "colab_type": "text"
      },
      "cell_type": "markdown",
      "source": [
        "#### A short reminder about what we mean when we say model:\n",
        "\n",
        "Remember that in this exercise we are training 2 things. First, we train an unsuprevised Fasttext model by passing text into gensim-fasstext. Then, we use this model (the embedding matrix) as a building block of the neural net to transform incoming words into word-vectors, that carry meaning.\n",
        "\n",
        "![alt text](http://soberfish.co.uk/wp-content/uploads/2017/11/img_7688-1080x675.jpg)\n",
        "\n",
        "Do you think, we could deploy an LSA or a like in a similar setup (perhaps without the recurrent component)"
      ]
    },
    {
      "metadata": {
        "id": "gyr13erIGBVY",
        "colab_type": "code",
        "colab": {
          "base_uri": "https://localhost:8080/",
          "height": 34
        },
        "outputId": "fa04e46d-076a-414a-836e-5f34d72a8fec"
      },
      "cell_type": "code",
      "source": [
        "model_fasttext.wv.vectors.shape"
      ],
      "execution_count": 8,
      "outputs": [
        {
          "output_type": "execute_result",
          "data": {
            "text/plain": [
              "(63124, 300)"
            ]
          },
          "metadata": {
            "tags": []
          },
          "execution_count": 8
        }
      ]
    },
    {
      "metadata": {
        "id": "vAk1SEF_dbAD",
        "colab_type": "code",
        "colab": {
          "base_uri": "https://localhost:8080/",
          "height": 204
        },
        "outputId": "6f9f2491-6023-4d30-d8f7-b550a0dc04af"
      },
      "cell_type": "code",
      "source": [
        "!wget http://sds-datacrunch.aau.dk/public/hatespeech.p"
      ],
      "execution_count": 9,
      "outputs": [
        {
          "output_type": "stream",
          "text": [
            "--2018-11-07 10:16:58--  http://sds-datacrunch.aau.dk/public/hatespeech.p\n",
            "Resolving sds-datacrunch.aau.dk (sds-datacrunch.aau.dk)... 192.38.56.127\n",
            "Connecting to sds-datacrunch.aau.dk (sds-datacrunch.aau.dk)|192.38.56.127|:80... connected.\n",
            "HTTP request sent, awaiting response... 200 OK\n",
            "Length: 5609540 (5.3M) [text/x-pascal]\n",
            "Saving to: ‘hatespeech.p’\n",
            "\n",
            "hatespeech.p        100%[===================>]   5.35M  2.04MB/s    in 2.6s    \n",
            "\n",
            "2018-11-07 10:17:01 (2.04 MB/s) - ‘hatespeech.p’ saved [5609540/5609540]\n",
            "\n"
          ],
          "name": "stdout"
        }
      ]
    },
    {
      "metadata": {
        "id": "cKE7vwTfddJJ",
        "colab_type": "code",
        "colab": {}
      },
      "cell_type": "code",
      "source": [
        "# extremely lazy loading from a pickle, stored when were training the embeddings\n",
        "\n",
        "hatespeech = pd.read_pickle('hatespeech.p')"
      ],
      "execution_count": 0,
      "outputs": []
    },
    {
      "metadata": {
        "id": "gAGBdhneIpPH",
        "colab_type": "code",
        "colab": {}
      },
      "cell_type": "code",
      "source": [
        "# Remove the \"rt\" (only preprocessing step, due to being lazy, mostly)\n",
        "\n",
        "hatespeech['tokenized'] = hatespeech['tokenized'].map(lambda t: [x for x in t if x != 'rt'])"
      ],
      "execution_count": 0,
      "outputs": []
    },
    {
      "metadata": {
        "id": "WpnQFEgcJllo",
        "colab_type": "text"
      },
      "cell_type": "markdown",
      "source": [
        "### Creating the embedding matrix\n",
        "\n",
        "Now that we have loaded the model and the data that we are going to work with, we need to initialize the embedding matrix"
      ]
    },
    {
      "metadata": {
        "id": "Y6496TnTm8O3",
        "colab_type": "code",
        "colab": {}
      },
      "cell_type": "code",
      "source": [
        "# firtst, we ened to define the vocabulary to make a mapping dictionary\n",
        "\n",
        "vocab = list(model_fasttext.wv.vocab.keys())"
      ],
      "execution_count": 0,
      "outputs": []
    },
    {
      "metadata": {
        "id": "a6mTt3dwJ3lv",
        "colab_type": "text"
      },
      "cell_type": "markdown",
      "source": [
        "sidenote: there maybe somewhere in gensim a hidden function that makes whis step seem naive. But, honestly it's easy anough and works"
      ]
    },
    {
      "metadata": {
        "id": "PnvBS4d3xQnz",
        "colab_type": "code",
        "colab": {}
      },
      "cell_type": "code",
      "source": [
        "# Create an empty dictionary and enter all words with their ids into it.\n",
        "\n",
        "model_dict = {}\n",
        "\n",
        "for word in vocab:\n",
        "  model_dict[word] = model_fasttext.wv.vocab[word].index"
      ],
      "execution_count": 0,
      "outputs": []
    },
    {
      "metadata": {
        "id": "ih8-eiY5it1C",
        "colab_type": "code",
        "colab": {}
      },
      "cell_type": "code",
      "source": [
        "# Map all words to their ids from the dictionary\n",
        "\n",
        "hatespeech['sequences'] = hatespeech['tokenized'].map(lambda t: list(map(model_dict.get,t)))"
      ],
      "execution_count": 0,
      "outputs": []
    },
    {
      "metadata": {
        "id": "JftUK98teZ2f",
        "colab_type": "code",
        "colab": {}
      },
      "cell_type": "code",
      "source": [
        "# Filter out all instances of \"None\" (kind of the same what we just did with rt but using filter)\n",
        "\n",
        "hatespeech['sequences'] = hatespeech['sequences'].apply(lambda t: list(filter(None, t)))"
      ],
      "execution_count": 0,
      "outputs": []
    },
    {
      "metadata": {
        "id": "QNNHkB-DLRxt",
        "colab_type": "text"
      },
      "cell_type": "markdown",
      "source": [
        "Something I'm not very proud of :(\n",
        "However, the only \"correct\" soulution that I've seen and the simpler rewrites that I can think of right now are annoyingly hacky. In case you find a great and elegant solution, let me know"
      ]
    },
    {
      "metadata": {
        "id": "kZU9i19zLBnF",
        "colab_type": "code",
        "colab": {
          "base_uri": "https://localhost:8080/",
          "height": 34
        },
        "outputId": "d9b7d385-17c2-4fd8-e05c-1f79b9023ca9"
      },
      "cell_type": "code",
      "source": [
        "# the is (as very often) the word with index 0 and the one that doesn't really matter in terms of semantics\n",
        "model_fasttext.wv.index2entity[0]"
      ],
      "execution_count": 16,
      "outputs": [
        {
          "output_type": "execute_result",
          "data": {
            "text/plain": [
              "'the'"
            ]
          },
          "metadata": {
            "tags": []
          },
          "execution_count": 16
        }
      ]
    },
    {
      "metadata": {
        "id": "5DjN4iZfpok4",
        "colab_type": "code",
        "colab": {}
      },
      "cell_type": "code",
      "source": [
        "# We use that insight and manipulate it's vector to become a zero-vector.\n",
        "\n",
        "model_fasttext.wv.vectors[0] = np.zeros(300,)"
      ],
      "execution_count": 0,
      "outputs": []
    },
    {
      "metadata": {
        "id": "zDZ87rtdMU4J",
        "colab_type": "code",
        "colab": {
          "base_uri": "https://localhost:8080/",
          "height": 323
        },
        "outputId": "f446236c-eaae-4039-b1e5-a93445c973dd"
      },
      "cell_type": "code",
      "source": [
        "model_fasttext.wv.vectors[0]"
      ],
      "execution_count": 18,
      "outputs": [
        {
          "output_type": "execute_result",
          "data": {
            "text/plain": [
              "array([0., 0., 0., 0., 0., 0., 0., 0., 0., 0., 0., 0., 0., 0., 0., 0., 0.,\n",
              "       0., 0., 0., 0., 0., 0., 0., 0., 0., 0., 0., 0., 0., 0., 0., 0., 0.,\n",
              "       0., 0., 0., 0., 0., 0., 0., 0., 0., 0., 0., 0., 0., 0., 0., 0., 0.,\n",
              "       0., 0., 0., 0., 0., 0., 0., 0., 0., 0., 0., 0., 0., 0., 0., 0., 0.,\n",
              "       0., 0., 0., 0., 0., 0., 0., 0., 0., 0., 0., 0., 0., 0., 0., 0., 0.,\n",
              "       0., 0., 0., 0., 0., 0., 0., 0., 0., 0., 0., 0., 0., 0., 0., 0., 0.,\n",
              "       0., 0., 0., 0., 0., 0., 0., 0., 0., 0., 0., 0., 0., 0., 0., 0., 0.,\n",
              "       0., 0., 0., 0., 0., 0., 0., 0., 0., 0., 0., 0., 0., 0., 0., 0., 0.,\n",
              "       0., 0., 0., 0., 0., 0., 0., 0., 0., 0., 0., 0., 0., 0., 0., 0., 0.,\n",
              "       0., 0., 0., 0., 0., 0., 0., 0., 0., 0., 0., 0., 0., 0., 0., 0., 0.,\n",
              "       0., 0., 0., 0., 0., 0., 0., 0., 0., 0., 0., 0., 0., 0., 0., 0., 0.,\n",
              "       0., 0., 0., 0., 0., 0., 0., 0., 0., 0., 0., 0., 0., 0., 0., 0., 0.,\n",
              "       0., 0., 0., 0., 0., 0., 0., 0., 0., 0., 0., 0., 0., 0., 0., 0., 0.,\n",
              "       0., 0., 0., 0., 0., 0., 0., 0., 0., 0., 0., 0., 0., 0., 0., 0., 0.,\n",
              "       0., 0., 0., 0., 0., 0., 0., 0., 0., 0., 0., 0., 0., 0., 0., 0., 0.,\n",
              "       0., 0., 0., 0., 0., 0., 0., 0., 0., 0., 0., 0., 0., 0., 0., 0., 0.,\n",
              "       0., 0., 0., 0., 0., 0., 0., 0., 0., 0., 0., 0., 0., 0., 0., 0., 0.,\n",
              "       0., 0., 0., 0., 0., 0., 0., 0., 0., 0., 0.], dtype=float32)"
            ]
          },
          "metadata": {
            "tags": []
          },
          "execution_count": 18
        }
      ]
    },
    {
      "metadata": {
        "id": "PI3DnN-0DCSe",
        "colab_type": "code",
        "colab": {}
      },
      "cell_type": "code",
      "source": [
        "# Setting some parameters\n",
        "\n",
        "word_vectors = model_fasttext.wv\n",
        "\n",
        "MAX_NB_WORDS = len(word_vectors.vocab)\n",
        "MAX_SEQUENCE_LENGTH = 20"
      ],
      "execution_count": 0,
      "outputs": []
    },
    {
      "metadata": {
        "id": "J_wXopsiMlWa",
        "colab_type": "text"
      },
      "cell_type": "markdown",
      "source": [
        "#### Let's start by creating the inputs\n",
        "\n",
        "Inputs int neural nets are usually (we will stick to that here) of the same shape.\n",
        "Our tweets are however of variable length. Therefore we are going to \"pad\" them up with zeros. \n",
        "\n",
        "To pad or not to pad\n",
        "\n",
        "> Thank you for the quick answer. So after padding, how the library knows to ignore the padded values (and not to use them in the training).\n",
        "\n",
        "> It doesn't know. But it learns to ignore them: in practice, sequence padding won't noticeably impact training. But if you're worried about it, you can always use batches of size 1. -François Chollet \n",
        "\n",
        "\n",
        "\n"
      ]
    },
    {
      "metadata": {
        "id": "QOhQbTVpePGB",
        "colab_type": "code",
        "colab": {
          "base_uri": "https://localhost:8080/",
          "height": 34
        },
        "outputId": "540bdc49-3132-4bfe-d65b-e4dab34ef5ff"
      },
      "cell_type": "code",
      "source": [
        "# Import sequence-padding (Thanks Keras)\n",
        "import keras\n",
        "from keras.preprocessing.sequence import pad_sequences"
      ],
      "execution_count": 20,
      "outputs": [
        {
          "output_type": "stream",
          "text": [
            "Using TensorFlow backend.\n"
          ],
          "name": "stderr"
        }
      ]
    },
    {
      "metadata": {
        "id": "kArRs0JepUsI",
        "colab_type": "code",
        "colab": {}
      },
      "cell_type": "code",
      "source": [
        "# Creating our X's\n",
        "\n",
        "X = pad_sequences(hatespeech['sequences'], maxlen=MAX_SEQUENCE_LENGTH, \n",
        "                     padding=\"pre\", truncating=\"post\")"
      ],
      "execution_count": 0,
      "outputs": []
    },
    {
      "metadata": {
        "id": "NIAOUCuQrIqn",
        "colab_type": "code",
        "colab": {}
      },
      "cell_type": "code",
      "source": [
        "# Creating our y's (You are welcome to use Sklearn if you miss it)\n",
        "\n",
        "y = keras.utils.to_categorical(hatespeech['class'], num_classes=3)"
      ],
      "execution_count": 0,
      "outputs": []
    },
    {
      "metadata": {
        "id": "0PMxpKiLrxrO",
        "colab_type": "code",
        "colab": {}
      },
      "cell_type": "code",
      "source": [
        "# Splitting the dataset into the Training set and Test set - old-school way\n",
        "\n",
        "from sklearn.model_selection import train_test_split\n",
        "X_train, X_test, y_train, y_test = train_test_split(X, y, test_size = 0.2)"
      ],
      "execution_count": 0,
      "outputs": []
    },
    {
      "metadata": {
        "id": "aUBem3bqFzTo",
        "colab_type": "code",
        "colab": {}
      },
      "cell_type": "code",
      "source": [
        "# Let's import som building blocks that we will need\n",
        "from keras.layers import Dense, Input, CuDNNLSTM, LSTM, Embedding, Dropout, SpatialDropout1D, Bidirectional\n",
        "from keras.models import Model \n",
        "from keras.optimizers import Adam\n",
        "from keras.layers.normalization import BatchNormalization\n"
      ],
      "execution_count": 0,
      "outputs": []
    },
    {
      "metadata": {
        "id": "F8pZ7Lb2P8gb",
        "colab_type": "text"
      },
      "cell_type": "markdown",
      "source": [
        "### Some explanation on the imported stuff\n",
        "\n",
        "- CuDNNLSTM: NVIDIA CUDA® Deep Neural Network library (cuDNN) – fast LSTM implementation that runs only with Tensorflow backend (but that's kind of the usual thing to use these days)\n",
        "- LSTM (standard LSTM - but we kind of have a faster version)\n",
        "- Embedding: Our layer in which we will park our pre-trained vectors\n",
        "- SpacialDropout1d (for killing one vector at a time)\n",
        "- Bidirectional wrapper for our LSTM layer (basically it will force it to do everything 2 times - forwards and backwards)\n",
        "\n",
        "### Let's build this network architecture:\n"
      ]
    },
    {
      "metadata": {
        "id": "i7QTlAWPQ_o4",
        "colab_type": "code",
        "colab": {}
      },
      "cell_type": "code",
      "source": [
        "# First the embedding layer\n",
        "\n",
        "\n",
        "# model_fasttext.wv.vectors is just our preloaded fasttext model\n",
        "\n",
        "\n",
        "wv_layer = Embedding(model_fasttext.wv.vectors.shape[0],\n",
        "                     model_fasttext.wv.vectors.shape[1],\n",
        "                     mask_zero=False,\n",
        "                     weights=[model_fasttext.wv.vectors],\n",
        "                     input_length=MAX_SEQUENCE_LENGTH,\n",
        "                     trainable=True)"
      ],
      "execution_count": 0,
      "outputs": []
    },
    {
      "metadata": {
        "id": "aqUw_1sHRL_m",
        "colab_type": "code",
        "colab": {}
      },
      "cell_type": "code",
      "source": [
        "# Inputs\n",
        "\n",
        "comment_input = Input(shape=(MAX_SEQUENCE_LENGTH,), dtype='int32')\n",
        "\n",
        "embedded_sequences = wv_layer(comment_input)\n",
        "\n",
        "embedded_sequences = SpatialDropout1D(0.3)(embedded_sequences)"
      ],
      "execution_count": 0,
      "outputs": []
    },
    {
      "metadata": {
        "id": "e26MjVQuRbYw",
        "colab_type": "code",
        "colab": {}
      },
      "cell_type": "code",
      "source": [
        "# biLSTM (only one layer with 128 neurons)\n",
        "\n",
        "x = Bidirectional(CuDNNLSTM(128, return_sequences=False))(embedded_sequences)\n",
        "\n",
        "\n",
        "# In case you don't have a GPU\n",
        "#x = Bidirectional(LSTM(64, return_sequences=False))(embedded_sequences)"
      ],
      "execution_count": 0,
      "outputs": []
    },
    {
      "metadata": {
        "id": "Sigq0LGnGdQu",
        "colab_type": "code",
        "colab": {}
      },
      "cell_type": "code",
      "source": [
        "# Output\n",
        "\n",
        "x = Dropout(0.4)(x)\n",
        "x = BatchNormalization()(x)\n",
        "preds = Dense(3, activation='sigmoid')(x)"
      ],
      "execution_count": 0,
      "outputs": []
    },
    {
      "metadata": {
        "id": "oItOOpagRl2M",
        "colab_type": "code",
        "colab": {}
      },
      "cell_type": "code",
      "source": [
        "# build the model\n",
        "\n",
        "model = Model(inputs=[comment_input], outputs=preds)\n",
        "model.compile(loss='binary_crossentropy', optimizer='adam', metrics=['accuracy'])"
      ],
      "execution_count": 0,
      "outputs": []
    },
    {
      "metadata": {
        "id": "kxgzkRAwGqnJ",
        "colab_type": "code",
        "outputId": "bfa3434f-b393-4d9d-e7d9-5dbd5902f0a9",
        "colab": {
          "base_uri": "https://localhost:8080/",
          "height": 374
        }
      },
      "cell_type": "code",
      "source": [
        "# Let's pring out the model summary\n",
        "\n",
        "model.summary()"
      ],
      "execution_count": 30,
      "outputs": [
        {
          "output_type": "stream",
          "text": [
            "_________________________________________________________________\n",
            "Layer (type)                 Output Shape              Param #   \n",
            "=================================================================\n",
            "input_1 (InputLayer)         (None, 20)                0         \n",
            "_________________________________________________________________\n",
            "embedding_1 (Embedding)      (None, 20, 300)           18937200  \n",
            "_________________________________________________________________\n",
            "spatial_dropout1d_1 (Spatial (None, 20, 300)           0         \n",
            "_________________________________________________________________\n",
            "bidirectional_1 (Bidirection (None, 256)               440320    \n",
            "_________________________________________________________________\n",
            "dropout_1 (Dropout)          (None, 256)               0         \n",
            "_________________________________________________________________\n",
            "batch_normalization_1 (Batch (None, 256)               1024      \n",
            "_________________________________________________________________\n",
            "dense_1 (Dense)              (None, 3)                 771       \n",
            "=================================================================\n",
            "Total params: 19,379,315\n",
            "Trainable params: 19,378,803\n",
            "Non-trainable params: 512\n",
            "_________________________________________________________________\n"
          ],
          "name": "stdout"
        }
      ]
    },
    {
      "metadata": {
        "id": "AR0C0PbeHyKk",
        "colab_type": "code",
        "outputId": "3b912a54-725e-4987-8362-547bba4b891e",
        "colab": {
          "base_uri": "https://localhost:8080/",
          "height": 204
        }
      },
      "cell_type": "code",
      "source": [
        "# Let's train\n",
        "\n",
        "hist = model.fit(X_train, y_train, validation_split=0.1,\n",
        "                 epochs=5, batch_size=200, shuffle=True)"
      ],
      "execution_count": 31,
      "outputs": [
        {
          "output_type": "stream",
          "text": [
            "Train on 17843 samples, validate on 1983 samples\n",
            "Epoch 1/5\n",
            "17843/17843 [==============================] - 7s 410us/step - loss: 0.5404 - acc: 0.7520 - val_loss: 0.3134 - val_acc: 0.8921\n",
            "Epoch 2/5\n",
            "17843/17843 [==============================] - 4s 218us/step - loss: 0.2685 - acc: 0.9086 - val_loss: 0.2158 - val_acc: 0.9269\n",
            "Epoch 3/5\n",
            "17843/17843 [==============================] - 4s 219us/step - loss: 0.1994 - acc: 0.9285 - val_loss: 0.1967 - val_acc: 0.9306\n",
            "Epoch 4/5\n",
            "17843/17843 [==============================] - 4s 219us/step - loss: 0.1709 - acc: 0.9376 - val_loss: 0.1870 - val_acc: 0.9329\n",
            "Epoch 5/5\n",
            "17843/17843 [==============================] - 4s 220us/step - loss: 0.1524 - acc: 0.9443 - val_loss: 0.1953 - val_acc: 0.9318\n"
          ],
          "name": "stdout"
        }
      ]
    },
    {
      "metadata": {
        "id": "aNRIwjTeH-Uw",
        "colab_type": "code",
        "outputId": "d938b0d8-d43e-469e-81dd-2055d4f973ea",
        "colab": {
          "base_uri": "https://localhost:8080/",
          "height": 717
        }
      },
      "cell_type": "code",
      "source": [
        "# Plotting the training process\n",
        "\n",
        "history = pd.DataFrame(hist.history)\n",
        "plt.figure(figsize=(12,12));\n",
        "plt.plot(history[\"loss\"]);\n",
        "plt.plot(history[\"val_loss\"]);\n",
        "plt.title(\"Loss with pretrained word vectors\");\n",
        "plt.show();"
      ],
      "execution_count": 93,
      "outputs": [
        {
          "output_type": "display_data",
          "data": {
            "image/png": "[encoded data removed]",
            "text/plain": [
              "<matplotlib.figure.Figure at 0x7fb2daa744e0>"
            ]
          },
          "metadata": {
            "tags": []
          }
        }
      ]
    },
    {
      "metadata": {
        "id": "JAx7xLHn7e9D",
        "colab_type": "code",
        "colab": {
          "base_uri": "https://localhost:8080/",
          "height": 51
        },
        "outputId": "6b4adac7-190a-472f-fcd7-530df72b1e49"
      },
      "cell_type": "code",
      "source": [
        "# How does it perform?\n",
        "\n",
        "model.evaluate(X_test,y_test)"
      ],
      "execution_count": 94,
      "outputs": [
        {
          "output_type": "stream",
          "text": [
            "4957/4957 [==============================] - 1s 206us/step\n"
          ],
          "name": "stdout"
        },
        {
          "output_type": "execute_result",
          "data": {
            "text/plain": [
              "[0.18051554963957622, 0.9315446372688213]"
            ]
          },
          "metadata": {
            "tags": []
          },
          "execution_count": 94
        }
      ]
    },
    {
      "metadata": {
        "id": "E6v1twTPQxfG",
        "colab_type": "code",
        "colab": {}
      },
      "cell_type": "code",
      "source": [
        "y_pred = model.predict(X_test)"
      ],
      "execution_count": 0,
      "outputs": []
    },
    {
      "metadata": {
        "id": "rYtHoRxJR-P5",
        "colab_type": "code",
        "outputId": "11c9d3c5-ba18-4909-cf91-b70433d7d25f",
        "colab": {
          "base_uri": "https://localhost:8080/",
          "height": 136
        }
      },
      "cell_type": "code",
      "source": [
        "print(y_pred)"
      ],
      "execution_count": 96,
      "outputs": [
        {
          "output_type": "stream",
          "text": [
            "[[6.2461096e-01 4.9253350e-01 6.0760356e-03]\n",
            " [6.3358921e-01 4.9448130e-01 4.6309927e-03]\n",
            " [1.0810854e-02 9.9326974e-01 1.1202999e-03]\n",
            " ...\n",
            " [1.7329675e-04 1.9547159e-03 9.9983132e-01]\n",
            " [4.8238765e-03 9.9098808e-01 2.9944456e-03]\n",
            " [6.4637102e-02 9.6171820e-01 3.2253759e-03]]\n"
          ],
          "name": "stdout"
        }
      ]
    },
    {
      "metadata": {
        "id": "VvKdD46dzx7H",
        "colab_type": "code",
        "colab": {}
      },
      "cell_type": "code",
      "source": [
        "from sklearn.metrics import classification_report"
      ],
      "execution_count": 0,
      "outputs": []
    },
    {
      "metadata": {
        "id": "sxi7nB6r0EAc",
        "colab_type": "code",
        "colab": {
          "base_uri": "https://localhost:8080/",
          "height": 153
        },
        "outputId": "46004905-1afe-4fc2-d955-22f084a2613f"
      },
      "cell_type": "code",
      "source": [
        "cr_test = np.argmax(y_test, axis=1)\n",
        "cr_pred = np.argmax(y_pred, axis=1)\n",
        "\n",
        "print(classification_report(cr_test, cr_pred))"
      ],
      "execution_count": 98,
      "outputs": [
        {
          "output_type": "stream",
          "text": [
            "             precision    recall  f1-score   support\n",
            "\n",
            "          0       0.52      0.29      0.37       293\n",
            "          1       0.92      0.96      0.94      3850\n",
            "          2       0.85      0.84      0.84       814\n",
            "\n",
            "avg / total       0.89      0.90      0.89      4957\n",
            "\n"
          ],
          "name": "stdout"
        }
      ]
    },
    {
      "metadata": {
        "id": "yVpBzB8Y_Xkt",
        "colab_type": "code",
        "colab": {
          "base_uri": "https://localhost:8080/",
          "height": 173
        },
        "outputId": "86515e62-6637-44e9-94a4-7cee7a700d9d"
      },
      "cell_type": "code",
      "source": [
        "pd.crosstab(cr_test,cr_pred)"
      ],
      "execution_count": 122,
      "outputs": [
        {
          "output_type": "execute_result",
          "data": {
            "text/html": [
              "<div>\n",
              "<style scoped>\n",
              "    .dataframe tbody tr th:only-of-type {\n",
              "        vertical-align: middle;\n",
              "    }\n",
              "\n",
              "    .dataframe tbody tr th {\n",
              "        vertical-align: top;\n",
              "    }\n",
              "\n",
              "    .dataframe thead th {\n",
              "        text-align: right;\n",
              "    }\n",
              "</style>\n",
              "<table border=\"1\" class=\"dataframe\">\n",
              "  <thead>\n",
              "    <tr style=\"text-align: right;\">\n",
              "      <th>col_0</th>\n",
              "      <th>0</th>\n",
              "      <th>1</th>\n",
              "      <th>2</th>\n",
              "    </tr>\n",
              "    <tr>\n",
              "      <th>row_0</th>\n",
              "      <th></th>\n",
              "      <th></th>\n",
              "      <th></th>\n",
              "    </tr>\n",
              "  </thead>\n",
              "  <tbody>\n",
              "    <tr>\n",
              "      <th>0</th>\n",
              "      <td>579</td>\n",
              "      <td>742</td>\n",
              "      <td>109</td>\n",
              "    </tr>\n",
              "    <tr>\n",
              "      <th>1</th>\n",
              "      <td>201</td>\n",
              "      <td>18758</td>\n",
              "      <td>231</td>\n",
              "    </tr>\n",
              "    <tr>\n",
              "      <th>2</th>\n",
              "      <td>31</td>\n",
              "      <td>322</td>\n",
              "      <td>3810</td>\n",
              "    </tr>\n",
              "  </tbody>\n",
              "</table>\n",
              "</div>"
            ],
            "text/plain": [
              "col_0    0      1     2\n",
              "row_0                  \n",
              "0      579    742   109\n",
              "1      201  18758   231\n",
              "2       31    322  3810"
            ]
          },
          "metadata": {
            "tags": []
          },
          "execution_count": 122
        }
      ]
    },
    {
      "metadata": {
        "id": "3FJMd2BG-2g5",
        "colab_type": "code",
        "colab": {}
      },
      "cell_type": "code",
      "source": [
        "hatespeech['pred'] = np.argmax(model.predict(X), axis=1)"
      ],
      "execution_count": 0,
      "outputs": []
    },
    {
      "metadata": {
        "id": "YKSLXffv-968",
        "colab_type": "code",
        "colab": {
          "base_uri": "https://localhost:8080/",
          "height": 34
        },
        "outputId": "cc5aa44b-12fc-43dc-8b33-18b563001649"
      },
      "cell_type": "code",
      "source": [
        "hatespeech[(hatespeech['class'] == 0) & (hatespeech['pred'] == 2)]['tweet'].iloc[30]"
      ],
      "execution_count": 120,
      "outputs": [
        {
          "output_type": "execute_result",
          "data": {
            "text/plain": [
              "\"@klejdys He may be 'hustlin' but he studied Critical (Race) Theory and 'my people' Holder is getting his 'revenge.' They hate whitey.\""
            ]
          },
          "metadata": {
            "tags": []
          },
          "execution_count": 120
        }
      ]
    },
    {
      "metadata": {
        "id": "F6Fh42RE8tKo",
        "colab_type": "code",
        "colab": {
          "base_uri": "https://localhost:8080/",
          "height": 153
        },
        "outputId": "68c52893-211e-49fa-c1a7-6f5c3983f0ae"
      },
      "cell_type": "code",
      "source": [
        "cr_test = np.argmax(y, axis=1)\n",
        "cr_pred = np.argmax(model.predict(X), axis=1)\n",
        "\n",
        "print(classification_report(cr_test, cr_pred))"
      ],
      "execution_count": 121,
      "outputs": [
        {
          "output_type": "stream",
          "text": [
            "             precision    recall  f1-score   support\n",
            "\n",
            "          0       0.71      0.40      0.52      1430\n",
            "          1       0.95      0.98      0.96     19190\n",
            "          2       0.92      0.92      0.92      4163\n",
            "\n",
            "avg / total       0.93      0.93      0.93     24783\n",
            "\n"
          ],
          "name": "stdout"
        }
      ]
    },
    {
      "metadata": {
        "id": "uFtHte3_DOb9",
        "colab_type": "text"
      },
      "cell_type": "markdown",
      "source": [
        "#### Great material\n",
        "\n",
        "**Text generation with RNNs**\n",
        "\n",
        "easier:\n",
        "https://machinelearningmastery.com/text-generation-lstm-recurrent-neural-networks-python-keras/\n",
        "\n",
        "more advanced:\n",
        "https://medium.com/@david.campion/text-generation-using-bidirectional-lstm-and-doc2vec-models-1-3-8979eb65cb3a\n",
        "\n",
        "**Explainable NLP**\n",
        "\n",
        "http://nlp.town/blog/understanding-deeplearning-models-nlp/"
      ]
    },
    {
      "metadata": {
        "id": "V505vogLklEn",
        "colab_type": "code",
        "colab": {}
      },
      "cell_type": "code",
      "source": [
        ""
      ],
      "execution_count": 0,
      "outputs": []
    }
  ]
}